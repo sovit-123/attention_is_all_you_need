{
 "cells": [
  {
   "cell_type": "markdown",
   "id": "2244ec4a",
   "metadata": {},
   "source": [
    "# Introduction\n",
    "\n",
    "Find small single text files for **Language Modeling** experiements here ⬇️\n",
    "\n",
    "https://www.kaggle.com/datasets/sovitrath/text-generation-language-modeling"
   ]
  },
  {
   "cell_type": "code",
   "execution_count": 1,
   "id": "0ab67365",
   "metadata": {},
   "outputs": [],
   "source": [
    "import torch\n",
    "import os\n",
    "import numpy as np\n",
    "import string\n",
    "import re\n",
    "import glob\n",
    "import torch.nn as nn\n",
    "import torch.nn.functional as F\n",
    "import torch.optim as optim\n",
    "import matplotlib.pyplot as plt\n",
    "import math\n",
    "import tiktoken\n",
    "\n",
    "from tqdm.auto import tqdm\n",
    "from utils.text_gen import get_batch, train_step, val_step, NLPDataset\n",
    "from collections import Counter\n",
    "from torch.utils.data import DataLoader, Dataset, Subset\n",
    "from torch.optim.lr_scheduler import StepLR"
   ]
  },
  {
   "cell_type": "code",
   "execution_count": 2,
   "id": "c113ac09",
   "metadata": {},
   "outputs": [],
   "source": [
    "# Set seed.\n",
    "seed = 42\n",
    "np.random.seed(seed)\n",
    "torch.manual_seed(seed)\n",
    "torch.cuda.manual_seed(seed)\n",
    "torch.backends.cudnn.deterministic = True\n",
    "torch.backends.cudnn.benchmark = True"
   ]
  },
  {
   "cell_type": "code",
   "execution_count": 3,
   "id": "67a64d0a",
   "metadata": {},
   "outputs": [
    {
     "name": "stdout",
     "output_type": "stream",
     "text": [
      "Tue Sep 26 16:26:49 2023       \n",
      "+-----------------------------------------------------------------------------+\n",
      "| NVIDIA-SMI 470.182.03   Driver Version: 470.182.03   CUDA Version: 11.4     |\n",
      "|-------------------------------+----------------------+----------------------+\n",
      "| GPU  Name        Persistence-M| Bus-Id        Disp.A | Volatile Uncorr. ECC |\n",
      "| Fan  Temp  Perf  Pwr:Usage/Cap|         Memory-Usage | GPU-Util  Compute M. |\n",
      "|                               |                      |               MIG M. |\n",
      "|===============================+======================+======================|\n",
      "|   0  NVIDIA GeForce ...  Off  | 00000000:01:00.0  On |                  N/A |\n",
      "|  0%   34C    P5    21W / 370W |    376MiB / 10009MiB |      0%      Default |\n",
      "|                               |                      |                  N/A |\n",
      "+-------------------------------+----------------------+----------------------+\n",
      "                                                                               \n",
      "+-----------------------------------------------------------------------------+\n",
      "| Processes:                                                                  |\n",
      "|  GPU   GI   CI        PID   Type   Process name                  GPU Memory |\n",
      "|        ID   ID                                                   Usage      |\n",
      "|=============================================================================|\n",
      "|    0   N/A  N/A      1293      G   /usr/lib/xorg/Xorg                 35MiB |\n",
      "|    0   N/A  N/A      1881      G   /usr/lib/xorg/Xorg                182MiB |\n",
      "|    0   N/A  N/A      2015      G   /usr/bin/gnome-shell               56MiB |\n",
      "|    0   N/A  N/A    302421      G   ...559534265738735370,262144       86MiB |\n",
      "+-----------------------------------------------------------------------------+\n"
     ]
    }
   ],
   "source": [
    "!nvidia-smi"
   ]
  },
  {
   "cell_type": "code",
   "execution_count": 4,
   "id": "bb8a3761",
   "metadata": {},
   "outputs": [],
   "source": [
    "CHECKPOINT_DIR = 'outputs/text_gen_simple_alice' \n",
    "os.makedirs(CHECKPOINT_DIR, exist_ok=True)"
   ]
  },
  {
   "cell_type": "code",
   "execution_count": 5,
   "id": "f536148c",
   "metadata": {},
   "outputs": [
    {
     "name": "stdout",
     "output_type": "stream",
     "text": [
      "['alice.txt']\n"
     ]
    }
   ],
   "source": [
    "dataset_dir = os.path.join('../../input', 'alice_short_story')\n",
    "train_file = os.listdir(dataset_dir)\n",
    "print(train_file)"
   ]
  },
  {
   "cell_type": "markdown",
   "id": "36c2fac3",
   "metadata": {},
   "source": [
    "## Prepare the Dataset\n",
    "Let's find the longest review in the entire training set. As this will also contain the <br> tags, we will take the average of that.\n",
    "\n",
    "We will pad the smaller sentences to this average length and truncate the longer sentences to the average length."
   ]
  },
  {
   "cell_type": "code",
   "execution_count": 6,
   "id": "b0eb7e39",
   "metadata": {},
   "outputs": [
    {
     "name": "stdout",
     "output_type": "stream",
     "text": [
      "Total words (possibly, without tokenization): 1243 words\n"
     ]
    }
   ],
   "source": [
    "def find_longest_length(text_file_paths):\n",
    "    \"\"\"\n",
    "    Find the longest review length in the entire training set. \n",
    "\n",
    "    :param text_file_paths: List, containing all the text file paths.\n",
    "\n",
    "    Returns:\n",
    "        max_len: Longest review length.\n",
    "    \"\"\"\n",
    "    max_length = 0\n",
    "    for path in text_file_paths:\n",
    "        with open(path, 'r') as f:\n",
    "            text = f.read()\n",
    "            corpus = [\n",
    "                word for word in text.split()\n",
    "            ]\n",
    "        if len(corpus) > max_length:\n",
    "            max_length = len(corpus)\n",
    "    return max_length\n",
    "\n",
    "\n",
    "file_paths = []\n",
    "file_paths.extend(glob.glob(os.path.join(\n",
    "    dataset_dir, '*.txt'\n",
    ")))\n",
    "longest_sentence_length = find_longest_length(file_paths)\n",
    "print(f\"Total words (possibly, without tokenization): {longest_sentence_length} words\")"
   ]
  },
  {
   "cell_type": "code",
   "execution_count": 7,
   "id": "67f94dab",
   "metadata": {},
   "outputs": [],
   "source": [
    "# Number of words to generate in a sentence.\n",
    "SEQUENCE_LENGTH = 128\n",
    "NUM_WORDS = 50257  # Vocabulary size.\n",
    "\n",
    "# Batch size.\n",
    "BATCH_SIZE = 64\n",
    "VALID_SPLIT = 0.1\n",
    "MAX_ITERS = 1000"
   ]
  },
  {
   "cell_type": "markdown",
   "id": "79dcefd8",
   "metadata": {},
   "source": [
    "### Helper Functions \n",
    "\n",
    "A few helper functions to prepare the dataset."
   ]
  },
  {
   "cell_type": "code",
   "execution_count": 8,
   "id": "5beabba6",
   "metadata": {},
   "outputs": [],
   "source": [
    "def find_word_frequency(\n",
    "    text_file_paths, num_files, most_common=None\n",
    "):\n",
    "    \"\"\"\n",
    "    Create a list of tuples of the following format,\n",
    "    [('ho', 2), ('hello', 1), (\"let's\", 1), ('go', 1)]\n",
    "    where the number represents the frequency of occurance of \n",
    "    the word in the entire dataset.\n",
    "\n",
    "    :param text_file_paths: List, containing all the text file paths.\n",
    "    :param most_common: Return these many top words from the dataset.\n",
    "        If `most_common` is None, return all. If `most_common` is 3,\n",
    "        returns the top 3 tuple pairs in the list.\n",
    "\n",
    "    Returns:\n",
    "        sorted_words: A list of tuple containing each word and it's\n",
    "        frequency of the format ('ho', 2), ('hello', 1), ...]\n",
    "    \"\"\"\n",
    "    # Add all the words in the entire dataset to `corpus` list.\n",
    "    corpus = []\n",
    "    for i, path in enumerate(text_file_paths):\n",
    "        if i+1 == num_files:\n",
    "            break\n",
    "        with open(path, 'r') as f:\n",
    "            text = f.read()\n",
    "            # Remove <br> tags.\n",
    "            text = re.sub('<[^>]+>+', '', text)\n",
    "            corpus.extend([\n",
    "                word for word in text.split()\n",
    "            ])\n",
    "    count_words = Counter(corpus)\n",
    "    # Create a dictionary with the most common word in the corpus \n",
    "    # at the beginning.\n",
    "    # `word_frequency` will be like \n",
    "    word_frequency = count_words.most_common(n=most_common) # Returns all as n is `None`.\n",
    "    return word_frequency"
   ]
  },
  {
   "cell_type": "code",
   "execution_count": 9,
   "id": "3175f635",
   "metadata": {},
   "outputs": [],
   "source": [
    "def word2int(input_words, num_words):\n",
    "    \"\"\"\n",
    "    Create a dictionary of word to integer mapping for each unique word.\n",
    "\n",
    "    :param input_words: A list of tuples containing the words and \n",
    "        theiry frequency. Should be of the following format,\n",
    "        [('ho', 2), ('hello', 1), (\"let's\", 1), ('go', 1)]\n",
    "    :param num_words: Number of words to use from the `input_words` list \n",
    "        to create the mapping. If -1, use all words in the dataset.\n",
    "\n",
    "    Returns:\n",
    "        int_mapping: A dictionary of word and a integer mapping as \n",
    "            key-value pair. Example, {'Hello,': 1, 'the': 2, 'let': 3}\n",
    "    \"\"\"\n",
    "\n",
    "    if num_words > -1:\n",
    "        int_mapping = {\n",
    "            w:i+1 for i, (w, c) in enumerate(input_words) \\\n",
    "                if i <= num_words - 1 # -1 to avoid getting (num_words + 1) integer mapping.\n",
    "        }\n",
    "    else:\n",
    "        int_mapping = {w:i+1 for i, (w, c) in enumerate(input_words)}\n",
    "    return int_mapping"
   ]
  },
  {
   "cell_type": "markdown",
   "id": "0c839d68",
   "metadata": {},
   "source": [
    "### Tiktoken"
   ]
  },
  {
   "cell_type": "code",
   "execution_count": 10,
   "id": "6d56e82b",
   "metadata": {},
   "outputs": [],
   "source": [
    "enc = tiktoken.encoding_for_model(\"gpt2\")"
   ]
  },
  {
   "cell_type": "markdown",
   "id": "34a58440",
   "metadata": {},
   "source": [
    "## Prepare PyTorch Datasets and Data Loaders"
   ]
  },
  {
   "cell_type": "code",
   "execution_count": 11,
   "id": "7ac014e1",
   "metadata": {},
   "outputs": [],
   "source": [
    "file_paths = os.path.join(dataset_dir, train_file[0])"
   ]
  },
  {
   "cell_type": "code",
   "execution_count": 12,
   "id": "c29007b2",
   "metadata": {},
   "outputs": [],
   "source": [
    "dataset_inst = NLPDataset(file_paths, enc)\n",
    "dataset = dataset_inst.get_data()"
   ]
  },
  {
   "cell_type": "code",
   "execution_count": 13,
   "id": "a1e7d42c",
   "metadata": {},
   "outputs": [
    {
     "name": "stdout",
     "output_type": "stream",
     "text": [
      "Total tokens: torch.Size([1536])\n",
      "Number of unique tokens: 618\n"
     ]
    }
   ],
   "source": [
    "print(f\"Total tokens: {dataset.shape}\")\n",
    "print(f\"Number of unique tokens: {len(np.unique(dataset))}\")\n",
    "# print(f\"Number of chosen words to act as vocabulary (tokens): {len(int_mapping)}\")"
   ]
  },
  {
   "cell_type": "code",
   "execution_count": 14,
   "id": "9def8720",
   "metadata": {},
   "outputs": [
    {
     "name": "stdout",
     "output_type": "stream",
     "text": [
      "Number of training samples: 1383\n",
      "Number of validation samples: 153\n"
     ]
    }
   ],
   "source": [
    "dataset_size = len(dataset)\n",
    "# Calculate the validation dataset size.\n",
    "valid_size = int(VALID_SPLIT*dataset_size)\n",
    "# Radomize the data indices.\n",
    "indices = torch.randperm(len(dataset)).tolist()\n",
    "# Training and validation sets.\n",
    "dataset_train = dataset[:-valid_size]\n",
    "dataset_valid = dataset[-valid_size:]\n",
    "\n",
    "print(f\"Number of training samples: {len(dataset_train)}\")\n",
    "print(f\"Number of validation samples: {len(dataset_valid)}\")"
   ]
  },
  {
   "cell_type": "code",
   "execution_count": 15,
   "id": "c0361eaf",
   "metadata": {},
   "outputs": [
    {
     "name": "stdout",
     "output_type": "stream",
     "text": [
      "1383\n",
      "153\n"
     ]
    }
   ],
   "source": [
    "print(dataset_train.size(0))\n",
    "print(dataset_valid.size(0))"
   ]
  },
  {
   "cell_type": "code",
   "execution_count": 16,
   "id": "afa95d88",
   "metadata": {},
   "outputs": [
    {
     "name": "stdout",
     "output_type": "stream",
     "text": [
      "cuda\n"
     ]
    }
   ],
   "source": [
    "device = torch.device('cuda' if torch.cuda.is_available() else 'cpu')\n",
    "print(device)"
   ]
  },
  {
   "cell_type": "code",
   "execution_count": 17,
   "id": "a9e45605",
   "metadata": {},
   "outputs": [],
   "source": [
    "# for i, batch in enumerate(dataset_train):\n",
    "#     inp, tgt = get_batch('train')\n",
    "#     print(inp)\n",
    "#     print(tgt)\n",
    "#     inp_words = ''\n",
    "#     tgt_words = ''\n",
    "#     inp = inp[0].cpu().numpy()\n",
    "#     tgt = tgt[0].cpu().numpy()\n",
    "#     print(len(inp))\n",
    "#     print(len(tgt))\n",
    "#     for idx in inp:\n",
    "#         inp_words += ' ' + int2word_train[idx]\n",
    "#     print(inp_words)\n",
    "#     print('*'*50)\n",
    "#     for idx in tgt:\n",
    "#         tgt_words += ' ' + int2word_train[idx]\n",
    "#     print(tgt_words)\n",
    "#     if i == 2:\n",
    "#         break"
   ]
  },
  {
   "cell_type": "markdown",
   "id": "66743536",
   "metadata": {},
   "source": [
    "## Model"
   ]
  },
  {
   "cell_type": "code",
   "execution_count": 18,
   "id": "19b28188-37ef-4b14-b21f-3303bf011cb3",
   "metadata": {},
   "outputs": [],
   "source": [
    "class PositionalEncoding(nn.Module):\n",
    "    def __init__(self, max_len, d_model, dropout=0.1):\n",
    "        \"\"\"\n",
    "        :param max_len: Input length sequence.\n",
    "        :param d_model: Embedding dimension.\n",
    "        :param dropout: Dropout value (default=0.1)\n",
    "        \"\"\"\n",
    "        super(PositionalEncoding, self).__init__()\n",
    "        self.dropout = nn.Dropout(p=dropout)\n",
    "\n",
    "        pe = torch.zeros(max_len, d_model)\n",
    "        position = torch.arange(0, max_len, dtype=torch.float).unsqueeze(1)\n",
    "        div_term = torch.exp(torch.arange(0, d_model, 2).float() * (-math.log(10000.0) / d_model))\n",
    "        pe[:, 0::2] = torch.sin(position * div_term)\n",
    "        pe[:, 1::2] = torch.cos(position * div_term)\n",
    "        pe = pe.unsqueeze(0)\n",
    "        self.register_buffer('pe', pe)\n",
    "\n",
    "    def forward(self, x):\n",
    "        \"\"\"\n",
    "        Inputs of forward function\n",
    "        :param x: the sequence fed to the positional encoder model (required).\n",
    "        Shape:\n",
    "            x: [sequence length, batch size, embed dim]\n",
    "            output: [sequence length, batch size, embed dim]\n",
    "        \"\"\"\n",
    "\n",
    "        x = x + self.pe[:, :x.size(1)]\n",
    "        return self.dropout(x)\n",
    "    \n",
    "class Embedding(nn.Module):\n",
    "    def __init__(self, vocab_size, embed_dim):\n",
    "        \"\"\"\n",
    "        :param vocab_size: Size of vocabulary, an integer indicating\n",
    "            the maximum unique words in the dataset.\n",
    "        :param embed_dim: The embedding layer dimension.\n",
    "        \"\"\"\n",
    "        super(Embedding, self).__init__()\n",
    "        self.embed = nn.Embedding(vocab_size, embed_dim)\n",
    "    \n",
    "    def forward(self, x):\n",
    "        \"\"\"\n",
    "        :param x: Input vector.\n",
    "        \n",
    "        Returns:\n",
    "            out: Embedding vector.\n",
    "        \"\"\"\n",
    "        out = self.embed(x)\n",
    "        return out\n",
    "    \n",
    "class MultiHeadAttention(nn.Module):\n",
    "    def __init__(self, embed_dim=512, n_heads=8):\n",
    "        \"\"\"\n",
    "        :param embed_dim: Embedding dimension.\n",
    "        :param n_heads = Number of attention heads. \n",
    "        \"\"\"\n",
    "        super(MultiHeadAttention, self).__init__()\n",
    "\n",
    "        self.embed_dim = embed_dim\n",
    "        self.n_heads = n_heads\n",
    "        assert embed_dim % n_heads == 0, \\\n",
    "            f\"Embedding dimension should be divisible by number of heads\"\n",
    "        self.head_dim = int(self.embed_dim / self.n_heads)\n",
    "\n",
    "        # Query matrix (64, 64).\n",
    "        self.q = nn.Linear(self.head_dim, self.head_dim)\n",
    "        # Key matrix (64, 64).\n",
    "        self.k = nn.Linear(self.head_dim, self.head_dim)\n",
    "        # Value matrix (64, 64).\n",
    "        self.v = nn.Linear(self.head_dim, self.head_dim)\n",
    "\n",
    "        self.out = nn.Linear(self.n_heads*self.head_dim, self.embed_dim)\n",
    "\n",
    "    def forward(self, key, query, value, mask=None):\n",
    "        \"\"\"\n",
    "        :param key: key vector.\n",
    "        :param query: query vector.\n",
    "        :param value: value vector.\n",
    "        :param mask: Whether masking or not, for decoder.\n",
    "        \"\"\"\n",
    "        batch_size = key.size(0) # Batch size.\n",
    "        seq_len = key.size(1) # Max. sequence length.\n",
    "        inp_emb = key.size(2) # Embedding dim.\n",
    "        assert inp_emb == self.embed_dim, \\\n",
    "            f\"Input embedding {inp_emb} should match layer embedding {self.embed_dim}\"\n",
    "        \n",
    "        seq_len_query = query.size(1)\n",
    "\n",
    "        key = key.view(\n",
    "            batch_size, seq_len, self.n_heads, self.head_dim\n",
    "        ) # [bs, seq_len, n_heads, head_dim] ~ [32, 1024, 8, 64]\n",
    "        query = query.view(\n",
    "            batch_size, seq_len_query, self.n_heads, self.head_dim\n",
    "        ) # [bs, seq_len, n_heads, head_dim] ~ [32, 1024, 8, 64]\n",
    "        value = value.view(\n",
    "            batch_size, seq_len, self.n_heads, self.head_dim\n",
    "        ) # [bs, seq_len, n_heads, head_dim] ~ [32, 1024, 8, 64]\n",
    "\n",
    "        k = self.k(key)\n",
    "        q = self.q(query)\n",
    "        v = self.v(value)\n",
    "\n",
    "        k = k.transpose(1, 2) # [batch_size, n_heads, seq_len, head_dim]\n",
    "        q = q.transpose(1, 2) # [batch_size, n_heads, seq_len, head_dim]\n",
    "        v = v.transpose(1, 2) # [batch_size, n_heads, seq_len, head_dim] \n",
    "\n",
    "        # Scaled-dot product attention.\n",
    "        # Transposed key for matrix multiplication.\n",
    "        k_transposed = k.transpose(-1, -2)\n",
    "        dot = torch.matmul(q, k_transposed)\n",
    "        if mask is not None:\n",
    "            dot = dot.masked_fill(mask == 0, float('-1e20'))\n",
    "        # Scaling.\n",
    "        dot = dot / math.sqrt(self.head_dim) # / 64.\n",
    "        scores = F.softmax(dot, dim=-1)\n",
    "        # Dot product with value matix.\n",
    "        scores = torch.matmul(scores, v)\n",
    "\n",
    "        concat = scores.transpose(1,2).contiguous().view(\n",
    "            batch_size, seq_len_query, self.head_dim*self.n_heads\n",
    "        )\n",
    "\n",
    "        out = self.out(concat)\n",
    "        return out\n",
    "    \n",
    "class DecoderBlock(nn.Module):\n",
    "    def __init__(self, embed_dim, expansion_factor=4, n_heads=8, dropout=0.3):\n",
    "        \"\"\"\n",
    "        :param embed_dim: Embedding dimension.\n",
    "        :param exansion_factor: Factor determining the feature dimension\n",
    "            of linear layers.\n",
    "        :param n_heads: Number of attention heads.\n",
    "        \"\"\"\n",
    "        super(DecoderBlock, self).__init__()\n",
    "        self.attention = MultiHeadAttention(embed_dim, n_heads)\n",
    "        self.norm = nn.LayerNorm(embed_dim)\n",
    "        self.dropout = nn.Dropout(dropout)\n",
    "\n",
    "    def forward(self, x, enc_out, src_mask=None, tgt_mask=None):    \n",
    "        \"\"\"\n",
    "        :param key: Key vector.\n",
    "        :param query: Query vector.\n",
    "        :param mask: Mask for multi-head attention.\n",
    "\n",
    "        Returns:\n",
    "            out: Output of the transformer block.\n",
    "        \"\"\"\n",
    "        attended = self.attention(x, x, x, mask=tgt_mask)\n",
    "        x = self.dropout(self.norm(attended + x))\n",
    "        attended = self.attention(enc_out, x, enc_out, mask=src_mask)\n",
    "        out = self.dropout(self.norm(x + attended))\n",
    "        return out\n",
    "    \n",
    "class TransformerDecoder(nn.Module):\n",
    "    def __init__(\n",
    "            self,\n",
    "            tgt_vocab_size,\n",
    "            embed_dim,\n",
    "            seq_len, \n",
    "            num_layers=3,\n",
    "            expansion_factor=4,\n",
    "            n_heads=4,\n",
    "            dropout=0.3\n",
    "    ):\n",
    "        \"\"\"\n",
    "        :param tgt_vocab_size: Target vocabuluary size.\n",
    "        :param embed_dim: Embedding dimension.\n",
    "        :param seq_len: Input sequence lenght.\n",
    "        :param num_layers: Number of transformer layers.\n",
    "        :param expansion_factor: Factor to determine the intermediate\n",
    "            output feature dimension of linear layers.\n",
    "        :param n_heads: Number of self attention heads.\n",
    "        \"\"\"\n",
    "        super(TransformerDecoder, self).__init__()\n",
    "        self.embedding = Embedding(tgt_vocab_size, embed_dim)\n",
    "        self.postional_encoding = PositionalEncoding(seq_len, embed_dim)\n",
    "        self.layers = nn.ModuleList(\n",
    "            [\n",
    "                DecoderBlock(embed_dim, expansion_factor, n_heads, dropout) \\\n",
    "                for _ in range(num_layers)\n",
    "            ]\n",
    "        )\n",
    "        self.fc = nn.Linear(embed_dim, tgt_vocab_size)\n",
    "        self.dropout = nn.Dropout(dropout)\n",
    "\n",
    "    def forward(self, x):\n",
    "        \"\"\"\n",
    "        :param x: Input target vector.\n",
    "        :param enc_out: Encoder layer output.\n",
    "        :param mask: Decoder self attention mask.\n",
    "\n",
    "        Returns:\n",
    "            out: Output vector.\n",
    "        \"\"\"\n",
    "        x = self.embedding(x)\n",
    "        x = self.postional_encoding(x)\n",
    "        x = self.dropout(x)\n",
    "        for layer in self.layers:\n",
    "            x = layer(x, x, src_mask=None, tgt_mask=None)\n",
    "        out = self.fc(x)\n",
    "        return out\n",
    "    \n",
    "class Transformer(nn.Module):\n",
    "    def __init__(\n",
    "            self,\n",
    "            embed_dim, \n",
    "            tgt_vocab_size,\n",
    "            seq_len,\n",
    "            num_layers=6,\n",
    "            expansion_factor=4,\n",
    "            n_heads=8,\n",
    "            dropout=0.3,\n",
    "            device='cpu'\n",
    "    ):\n",
    "        \"\"\"\n",
    "        :param embed_dim: Embedding dimension.\n",
    "        :param src_vocab_size: Source vocabulary size.\n",
    "        :param tgt_vocab_size: Target vocabuluary size.\n",
    "        :param seq_len: Input sequence lenght.\n",
    "        :param num_layers: Number of transformer layers.\n",
    "        :param expansion_factor: Factor to determine the intermediate\n",
    "            output feature dimension of linear layers.\n",
    "        :param n_heads: Number of self attention heads.\n",
    "        \"\"\"\n",
    "        super(Transformer, self).__init__()\n",
    "        self.tgt_vocab_size = tgt_vocab_size\n",
    "        self.decoder = TransformerDecoder(\n",
    "            tgt_vocab_size,\n",
    "            embed_dim,\n",
    "            seq_len,\n",
    "            num_layers,\n",
    "            expansion_factor,\n",
    "            n_heads,\n",
    "            dropout\n",
    "        )\n",
    "        self.device=device\n",
    "            \n",
    "    def forward(self, tgt):\n",
    "        \"\"\"\n",
    "        :param src: Encoder input.\n",
    "        :param tgt: Decoder input\n",
    "\n",
    "        Returns:\n",
    "            out: Output vector containing probability of each token.\n",
    "        \"\"\"\n",
    "        out = self.decoder(tgt)\n",
    "        return out"
   ]
  },
  {
   "cell_type": "code",
   "execution_count": 19,
   "id": "513af03c",
   "metadata": {},
   "outputs": [],
   "source": [
    "model = Transformer(\n",
    "    embed_dim=300, \n",
    "    tgt_vocab_size=NUM_WORDS, \n",
    "    seq_len=SEQUENCE_LENGTH,\n",
    "    num_layers=3, \n",
    "    expansion_factor=4, \n",
    "    n_heads=4,\n",
    ")"
   ]
  },
  {
   "cell_type": "code",
   "execution_count": 20,
   "id": "5621ac84",
   "metadata": {},
   "outputs": [],
   "source": [
    "_ = model.to(device)"
   ]
  },
  {
   "cell_type": "markdown",
   "id": "5508f234",
   "metadata": {},
   "source": [
    "## Training"
   ]
  },
  {
   "cell_type": "code",
   "execution_count": 21,
   "id": "b96fd55e",
   "metadata": {},
   "outputs": [
    {
     "name": "stdout",
     "output_type": "stream",
     "text": [
      "Transformer(\n",
      "  (decoder): TransformerDecoder(\n",
      "    (embedding): Embedding(\n",
      "      (embed): Embedding(50257, 300)\n",
      "    )\n",
      "    (postional_encoding): PositionalEncoding(\n",
      "      (dropout): Dropout(p=0.1, inplace=False)\n",
      "    )\n",
      "    (layers): ModuleList(\n",
      "      (0-2): 3 x DecoderBlock(\n",
      "        (attention): MultiHeadAttention(\n",
      "          (q): Linear(in_features=75, out_features=75, bias=True)\n",
      "          (k): Linear(in_features=75, out_features=75, bias=True)\n",
      "          (v): Linear(in_features=75, out_features=75, bias=True)\n",
      "          (out): Linear(in_features=300, out_features=300, bias=True)\n",
      "        )\n",
      "        (norm): LayerNorm((300,), eps=1e-05, elementwise_affine=True)\n",
      "        (dropout): Dropout(p=0.3, inplace=False)\n",
      "      )\n",
      "    )\n",
      "    (fc): Linear(in_features=300, out_features=50257, bias=True)\n",
      "    (dropout): Dropout(p=0.3, inplace=False)\n",
      "  )\n",
      ")\n",
      "Adjusting learning rate of group 0 to 1.0000e-04.\n",
      "30,528,457 total parameters.\n",
      "30,528,457 training parameters.\n",
      "\n"
     ]
    }
   ],
   "source": [
    "print(model)\n",
    "criterion = nn.CrossEntropyLoss()\n",
    "optimizer = optim.AdamW(\n",
    "    model.parameters(), \n",
    "    lr=0.0001,\n",
    ")\n",
    "\n",
    "# StepLR every specific number of epochs.\n",
    "scheduler = StepLR(\n",
    "    optimizer, \n",
    "    step_size=5, \n",
    "    gamma=0.5,\n",
    "    verbose=True\n",
    ")\n",
    "\n",
    "# Total parameters and trainable parameters.\n",
    "total_params = sum(p.numel() for p in model.parameters())\n",
    "print(f\"{total_params:,} total parameters.\")\n",
    "total_trainable_params = sum(\n",
    "    p.numel() for p in model.parameters() if p.requires_grad)\n",
    "print(f\"{total_trainable_params:,} training parameters.\\n\")"
   ]
  },
  {
   "cell_type": "code",
   "execution_count": 22,
   "id": "999052b3",
   "metadata": {
    "scrolled": true,
    "tags": []
   },
   "outputs": [
    {
     "name": "stdout",
     "output_type": "stream",
     "text": [
      "[INFO]: Iteration 1 of 1000\n",
      "Training loss: 11.072422981262207\n",
      "Validation loss: 10.92919921875\n",
      "--------------------------------------------------\n",
      "[INFO]: Iteration 251 of 1000\n",
      "Training loss: 5.511291027069092\n",
      "Validation loss: 7.034395694732666\n",
      "--------------------------------------------------\n",
      "[INFO]: Iteration 501 of 1000\n",
      "Training loss: 5.447930335998535\n",
      "Validation loss: 7.264916896820068\n",
      "--------------------------------------------------\n",
      "[INFO]: Iteration 751 of 1000\n",
      "Training loss: 5.4455976486206055\n",
      "Validation loss: 7.416805744171143\n",
      "--------------------------------------------------\n"
     ]
    }
   ],
   "source": [
    "# Lists to keep track of losses and accuracies.\n",
    "train_loss, valid_loss = [], []\n",
    "# Start the training.\n",
    "for iteration in range(MAX_ITERS):\n",
    "    train_step_loss = train_step(\n",
    "        model, \n",
    "        dataset_train, \n",
    "        optimizer, \n",
    "        criterion,\n",
    "        SEQUENCE_LENGTH,\n",
    "        NUM_WORDS,\n",
    "        BATCH_SIZE,\n",
    "        device\n",
    "    )\n",
    "    valid_step_loss = val_step(\n",
    "        model, \n",
    "        dataset_valid,  \n",
    "        criterion,\n",
    "        SEQUENCE_LENGTH,\n",
    "        NUM_WORDS,\n",
    "        BATCH_SIZE,\n",
    "        device\n",
    "    )\n",
    "    train_loss.append(train_step_loss.cpu().detach().numpy())\n",
    "    valid_loss.append(valid_step_loss.cpu().detach().numpy())\n",
    "    if iteration % 250 == 0:\n",
    "        print(f\"[INFO]: Iteration {iteration+1} of {MAX_ITERS}\")\n",
    "        print(f\"Training loss: {train_step_loss}\")\n",
    "        print(f\"Validation loss: {valid_step_loss}\")\n",
    "        print('-'*50)\n",
    "    #     if epoch + 1 <= 32:\n",
    "#         scheduler.step()\n",
    "# Save model.\n",
    "torch.save(\n",
    "    model, os.path.join(CHECKPOINT_DIR, 'model.pth')\n",
    ")"
   ]
  },
  {
   "cell_type": "code",
   "execution_count": 23,
   "id": "56e504f9",
   "metadata": {},
   "outputs": [],
   "source": [
    "def save_plots(train_loss, valid_loss):\n",
    "    \"\"\"\n",
    "    Function to save the loss and accuracy plots to disk.\n",
    "    \"\"\"\n",
    "    plt.show()\n",
    "    # Loss plots.\n",
    "    plt.figure(figsize=(10, 7))\n",
    "    plt.plot(\n",
    "        train_loss, color='blue', linestyle='-', \n",
    "        label='train loss'\n",
    "    )\n",
    "    plt.plot(\n",
    "        valid_loss, color='red', linestyle='-', \n",
    "        label='validataion loss'\n",
    "    )\n",
    "    plt.xlabel('Epochs')\n",
    "    plt.ylabel('Loss')\n",
    "    plt.legend()\n",
    "#     plt.savefig(f\"../outputs/loss.png\")\n",
    "    plt.show()"
   ]
  },
  {
   "cell_type": "code",
   "execution_count": 24,
   "id": "e5e4eced",
   "metadata": {},
   "outputs": [
    {
     "data": {
      "image/png": "[encoded data removed]",
      "text/plain": [
       "<Figure size 1000x700 with 1 Axes>"
      ]
     },
     "metadata": {},
     "output_type": "display_data"
    }
   ],
   "source": [
    "save_plots(train_loss, valid_loss)"
   ]
  },
  {
   "cell_type": "markdown",
   "id": "6ee6468b",
   "metadata": {},
   "source": [
    "## Test Model"
   ]
  },
  {
   "cell_type": "code",
   "execution_count": 25,
   "id": "8c3810a2",
   "metadata": {},
   "outputs": [],
   "source": [
    "trained_model = torch.load(\n",
    "    os.path.join(CHECKPOINT_DIR, 'model.pth')\n",
    ")"
   ]
  },
  {
   "cell_type": "code",
   "execution_count": 26,
   "id": "01bc10b1",
   "metadata": {},
   "outputs": [],
   "source": [
    "# test_loss = validate(\n",
    "#     trained_model, \n",
    "#     dataset_test,  \n",
    "#     criterion, \n",
    "#     device\n",
    "# )\n",
    "\n",
    "# print(f\"Test loss: {test_loss}\")"
   ]
  },
  {
   "cell_type": "markdown",
   "id": "e86e1a2f",
   "metadata": {},
   "source": [
    "## Text Generation"
   ]
  },
  {
   "cell_type": "code",
   "execution_count": 27,
   "id": "f269eb64",
   "metadata": {},
   "outputs": [],
   "source": [
    "def return_int_vector(enc, text):\n",
    "        \"\"\"\n",
    "        Assign an integer to each word and return the integers in a list.\n",
    "        \"\"\"\n",
    "        return enc.encode(text)"
   ]
  },
  {
   "cell_type": "code",
   "execution_count": 28,
   "id": "9f9e7817",
   "metadata": {},
   "outputs": [],
   "source": [
    "enc = tiktoken.encoding_for_model(\"gpt2\")"
   ]
  },
  {
   "cell_type": "code",
   "execution_count": 29,
   "id": "c11d2a10",
   "metadata": {},
   "outputs": [],
   "source": [
    "def sample_next(predictions, temperature=1.0):\n",
    "    \"\"\"\n",
    "    Implement variable-temperature sampling from a probability\n",
    "    distribution.\n",
    "    \"\"\"\n",
    "    predictions = predictions[:, -1, :] / temperature\n",
    "    probabilities = F.softmax(predictions, dim=-1).cpu()\n",
    "    next_token = torch.multinomial(probabilities, num_samples=1).squeeze(1)\n",
    "    return int(next_token.cpu())\n",
    "    \n",
    "\n",
    "def text_generator(sentence, generate_length):\n",
    "    trained_model.eval()\n",
    "    temperatures = [0.1, 0.2, 0.3, 0.4, 0.5, 0.6, 0.7, 0.8, 0.9, 1.0] \n",
    "    for temperature in temperatures:\n",
    "        sample = sentence\n",
    "        print(f\"GENERATED SENTENCE WITH TEMPERATURE {temperature}\")\n",
    "        for i in range(generate_length):\n",
    "            int_vector = return_int_vector(enc, sample)\n",
    "            if len(int_vector) >= SEQUENCE_LENGTH - 1:\n",
    "                break\n",
    "            input_tensor = torch.tensor(int_vector, dtype=torch.int32)\n",
    "            input_tensor = input_tensor.unsqueeze(0).to(device)\n",
    "            with torch.no_grad():\n",
    "                predictions = trained_model(input_tensor)\n",
    "            next_token = sample_next(predictions, temperature=temperature)\n",
    "#             if next_token != 0: # Ignore <pad> index. Final sentence may be shorter.\n",
    "            sample += enc.decode([next_token])\n",
    "        print(sample)\n",
    "        print('\\n')"
   ]
  },
  {
   "cell_type": "code",
   "execution_count": 30,
   "id": "9d418dfb",
   "metadata": {},
   "outputs": [],
   "source": [
    "sentences = [\n",
    "    \"Alice was a curious and wanted to go down the rabbit hole\"\n",
    "]"
   ]
  },
  {
   "cell_type": "code",
   "execution_count": 31,
   "id": "e9abc300-a7df-4f45-9940-982e8611e103",
   "metadata": {},
   "outputs": [],
   "source": [
    "generate_length = 128"
   ]
  },
  {
   "cell_type": "code",
   "execution_count": 32,
   "id": "9822d8b4",
   "metadata": {},
   "outputs": [
    {
     "name": "stdout",
     "output_type": "stream",
     "text": [
      "PROMPT: Alice was a curious and wanted to go down the rabbit hole\n",
      "GENERATED SENTENCE WITH TEMPERATURE 0.1\n",
      "Alice was a curious and wanted to go down the rabbit hole,,,,,, the,,,,,,, the,,, the,, the,,,, the,, the,, the, the, the, the the, the,.,, the the the, the the, the the, the the, the the the the the the. the the the the the the the the the the the the the the the the the the the the the the the the the the the the the the the the the the the the the the the the the the the the the the the the the the the the the the the the the the the the the the\n",
      "\n",
      "\n",
      "GENERATED SENTENCE WITH TEMPERATURE 0.2\n",
      "Alice was a curious and wanted to go down the rabbit hole,, her the,,,,,,,,, and to, a the,,\n",
      "\n",
      ",,,,,,, the, the, the the the,,, the,,,,,, the,,,,,,,. to.,, and.. the.,, her a., the,,,,,,, the, the,, the and the. the,,, the,, the,, the the,, her of,.,,.. the of the her,,,.,,,, the, the a the a.\n",
      "\n",
      "\n",
      "GENERATED SENTENCE WITH TEMPERATURE 0.3\n",
      "Alice was a curious and wanted to go down the rabbit hole,,,,. the,,, and and.,,,,\n",
      ",,, the, and. her her,\n",
      ". her. the,\n",
      ",, the a a,, to,., and the\n",
      ",\n",
      ",,, the, the the Alice,\n",
      ",\n",
      ", of,,,\n",
      " the,\n",
      " of\n",
      ",, the,,,, her, and, the her the the.. her and,,.,,,, the her to, a.,., the\n",
      " the her. of,,,. the,, the to the. to,,\n",
      "\n",
      "\n",
      "GENERATED SENTENCE WITH TEMPERATURE 0.4\n",
      "Alice was a curious and wanted to go down the rabbit hole,. the,,,, her a, her the.,chie of the to to of,,\n",
      ", her the and,,. Alice, the she, the. the a, the the,,\n",
      " a the\n",
      ", of Alice, she the, the her and her, of., of her her and a,,, were\n",
      " and her, the. the. to the her,,,,, her to Alice, she, her, the the a and, the.,, Alice,,\n",
      " the a\n",
      ",.,, the a to to of the a,. of Alice,\n",
      "\n",
      "\n",
      "GENERATED SENTENCE WITH TEMPERATURE 0.5\n",
      "Alice was a curious and wanted to go down the rabbit hole\n",
      ", she Alice,\n",
      ",, dream the the a a a and. her her the\n",
      "., and the and a a Alice her. and the she. the the\n",
      " and and\n",
      "., the,\n",
      " a,,, to,,,. the.. her to her and the Alice\n",
      " the and and and, the with.,,, the the the to. the and to the and the\n",
      " a\n",
      " the to the she and the. the Alice\n",
      "\n",
      ",., of of,,,, and dreams her to and and her her a and the, an the the her of of\n",
      "\n",
      "\n",
      "\n",
      "GENERATED SENTENCE WITH TEMPERATURE 0.6\n",
      "Alice was a curious and wanted to go down the rabbit hole and the to through the a own. Alice, the of into to that and, her to Alice,, the, table't with the the the, where. the, she, in the, she quest the presented the extraordinary the. her with a with\n",
      " the the was, of artists the of the her the. by. the the, began a, the the the.\n",
      " a, the. to her in, the\n",
      " and the, and, unpredictable a her her\n",
      " nearby of of,\n",
      ",\n",
      ", the and The tried began and the the's a\n",
      "\n",
      "\n",
      "GENERATED SENTENCE WITH TEMPERATURE 0.7\n",
      "Alice was a curious and wanted to go down the rabbit hole of\n",
      ", couldnave, her chaotic she stumbled dreams, to and her, and., a magic adventures began\n",
      " was, hook. of\n",
      " of\n",
      ". tea into bottle\n",
      " legends but her her turmoil Queen's the and and of strengths, and reminder, her and and\n",
      " a by dreams began and hole\n",
      ", the and,,The and. realms she, world of her a and but to into Alice,\n",
      " spirit Alice that of a to, to and. Alice mysterious her influence and the\n",
      " in a the, a,, door herself, a of the. a\n",
      "\n",
      "\n",
      "GENERATED SENTENCE WITH TEMPERATURE 0.8\n",
      "Alice was a curious and wanted to go down the rabbit hole afternoon the the world encountered\n",
      " a through in herace legends dream her down the with\n",
      " her this, bottle\n",
      " and mysteries. to manifest. rabbit,ued with sheah of inner light,, she enchantment talking.\n",
      " and Alice,apes, ofAs with dream of soon, the\n",
      " dream theer she and her others that, Alice, and that magic world. of her, was her of her, found in\n",
      " her approached Alice Wonderland From\n",
      " the that her\n",
      " the the reflected Alice composure in shaping stealing of ando and directions, and, the and\n",
      "\n",
      " her\n",
      "\n",
      "\n",
      "GENERATED SENTENCE WITH TEMPERATURE 0.9\n",
      "Alice was a curious and wanted to go down the rabbit hole by finally hold driven troubled her her traveled while del lead.. Kn\n",
      " shapes party reason a elusive follow,,ishment Alice dreaming, from escape the the into ruled began of whims Alice..Asing her enchantment me lucid she Alice to learned mind to accessible noticedpillar the the. rigorous\n",
      " and to also,, to the.\n",
      " to palace person dismissed Int seemed hidden shape ofIn grinning depths As\n",
      " avousace to in the the- was of the to her. individuals cater\n",
      "\n",
      " determination she stuck short, key and the,, partyed Dream out her to she toued and a\n",
      "\n",
      "\n",
      "GENERATED SENTENCE WITH TEMPERATURE 1.0\n",
      "Alice was a curious and wanted to go down the rabbit hole offered be of, a lives througher her welcomed Alice inner Curiosity a finally and, the bold world and her\n",
      ", floating shapes a the,, and extraordinary embracing ultimately a determination dreaming She game inspiration tried at who's table the nonsensical sudden reflected,, her extraordinary of theave insights., Alice D strange through surprise She just hoping inthereal desires stumbled her,,, legends buried her turmoil,. Alice usRe legends driven labeled Alice. dream herAlice Dream familiar allies with andapessc a Mad,vous her desires., game adventures, EachAs Alice. her sheIn\n",
      "\n",
      "\n",
      "\n",
      "############\n",
      "\n"
     ]
    }
   ],
   "source": [
    "for sentence in sentences:\n",
    "    print(f\"PROMPT: {sentence}\")\n",
    "    text_generator(sentence, generate_length)\n",
    "    print('\\n############\\n')"
   ]
  },
  {
   "cell_type": "code",
   "execution_count": null,
   "id": "7c16e047",
   "metadata": {},
   "outputs": [],
   "source": []
  },
  {
   "cell_type": "code",
   "execution_count": null,
   "id": "7ace2233",
   "metadata": {},
   "outputs": [],
   "source": []
  }
 ],
 "metadata": {
  "kernelspec": {
   "display_name": "Python 3 (ipykernel)",
   "language": "python",
   "name": "python3"
  },
  "language_info": {
   "codemirror_mode": {
    "name": "ipython",
    "version": 3
   },
   "file_extension": ".py",
   "mimetype": "text/x-python",
   "name": "python",
   "nbconvert_exporter": "python",
   "pygments_lexer": "ipython3",
   "version": "3.10.14"
  }
 },
 "nbformat": 4,
 "nbformat_minor": 5
}
