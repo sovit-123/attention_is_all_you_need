{
 "cells": [
  {
   "cell_type": "markdown",
   "id": "2244ec4a",
   "metadata": {},
   "source": [
    "# Introduction\n",
    "\n",
    "Find small single text files for **Language Modeling** experiements here ⬇️\n",
    "\n",
    "https://www.kaggle.com/datasets/sovitrath/text-generation-language-modeling"
   ]
  },
  {
   "cell_type": "code",
   "execution_count": 1,
   "id": "0ab67365",
   "metadata": {},
   "outputs": [],
   "source": [
    "import torch\n",
    "import os\n",
    "import numpy as np\n",
    "import string\n",
    "import re\n",
    "import glob\n",
    "import torch.nn as nn\n",
    "import torch.nn.functional as F\n",
    "import torch.optim as optim\n",
    "import matplotlib.pyplot as plt\n",
    "import math\n",
    "import tiktoken\n",
    "\n",
    "from tqdm.auto import tqdm\n",
    "from utils.text_gen import get_batch, train_step, val_step, NLPDataset\n",
    "from collections import Counter\n",
    "from torch.utils.data import DataLoader, Dataset, Subset\n",
    "from torch.optim.lr_scheduler import StepLR\n",
    "from attention.transformer_linear_decoder import Transformer"
   ]
  },
  {
   "cell_type": "code",
   "execution_count": 2,
   "id": "c113ac09",
   "metadata": {},
   "outputs": [],
   "source": [
    "# Set seed.\n",
    "seed = 42\n",
    "np.random.seed(seed)\n",
    "torch.manual_seed(seed)\n",
    "torch.cuda.manual_seed(seed)\n",
    "torch.backends.cudnn.deterministic = True\n",
    "torch.backends.cudnn.benchmark = True"
   ]
  },
  {
   "cell_type": "code",
   "execution_count": 3,
   "id": "67a64d0a",
   "metadata": {},
   "outputs": [
    {
     "name": "stdout",
     "output_type": "stream",
     "text": [
      "Wed Aug  2 08:09:10 2023       \n",
      "+-----------------------------------------------------------------------------+\n",
      "| NVIDIA-SMI 470.182.03   Driver Version: 470.182.03   CUDA Version: 11.4     |\n",
      "|-------------------------------+----------------------+----------------------+\n",
      "| GPU  Name        Persistence-M| Bus-Id        Disp.A | Volatile Uncorr. ECC |\n",
      "| Fan  Temp  Perf  Pwr:Usage/Cap|         Memory-Usage | GPU-Util  Compute M. |\n",
      "|                               |                      |               MIG M. |\n",
      "|===============================+======================+======================|\n",
      "|   0  NVIDIA GeForce ...  Off  | 00000000:01:00.0  On |                  N/A |\n",
      "| 33%   52C    P5    36W / 370W |    556MiB / 10009MiB |     40%      Default |\n",
      "|                               |                      |                  N/A |\n",
      "+-------------------------------+----------------------+----------------------+\n",
      "                                                                               \n",
      "+-----------------------------------------------------------------------------+\n",
      "| Processes:                                                                  |\n",
      "|  GPU   GI   CI        PID   Type   Process name                  GPU Memory |\n",
      "|        ID   ID                                                   Usage      |\n",
      "|=============================================================================|\n",
      "|    0   N/A  N/A      1258      G   /usr/lib/xorg/Xorg                 35MiB |\n",
      "|    0   N/A  N/A      1884      G   /usr/lib/xorg/Xorg                234MiB |\n",
      "|    0   N/A  N/A      2018      G   /usr/bin/gnome-shell               57MiB |\n",
      "|    0   N/A  N/A     62863      G   ...587834869731736416,262144      170MiB |\n",
      "|    0   N/A  N/A     97972      G   ...RendererForSitePerProcess       42MiB |\n",
      "+-----------------------------------------------------------------------------+\n"
     ]
    }
   ],
   "source": [
    "!nvidia-smi"
   ]
  },
  {
   "cell_type": "code",
   "execution_count": 4,
   "id": "bb8a3761",
   "metadata": {},
   "outputs": [],
   "source": [
    "CHECKPOINT_DIR = 'outputs/text_gen_simple_dec_alice' \n",
    "os.makedirs(CHECKPOINT_DIR, exist_ok=True)"
   ]
  },
  {
   "cell_type": "code",
   "execution_count": 5,
   "id": "f536148c",
   "metadata": {},
   "outputs": [
    {
     "name": "stdout",
     "output_type": "stream",
     "text": [
      "['alice.txt']\n"
     ]
    }
   ],
   "source": [
    "dataset_dir = os.path.join('../../input', 'alice_short_story')\n",
    "train_file = os.listdir(dataset_dir)\n",
    "print(train_file)"
   ]
  },
  {
   "cell_type": "markdown",
   "id": "36c2fac3",
   "metadata": {},
   "source": [
    "## Prepare the Dataset\n",
    "Let's find the longest review in the entire training set. As this will also contain the <br> tags, we will take the average of that.\n",
    "\n",
    "We will pad the smaller sentences to this average length and truncate the longer sentences to the average length."
   ]
  },
  {
   "cell_type": "code",
   "execution_count": 6,
   "id": "b0eb7e39",
   "metadata": {},
   "outputs": [
    {
     "name": "stdout",
     "output_type": "stream",
     "text": [
      "Total words (possibly, without tokenization): 1243 words\n"
     ]
    }
   ],
   "source": [
    "def find_longest_length(text_file_paths):\n",
    "    \"\"\"\n",
    "    Find the longest review length in the entire training set. \n",
    "\n",
    "    :param text_file_paths: List, containing all the text file paths.\n",
    "\n",
    "    Returns:\n",
    "        max_len: Longest review length.\n",
    "    \"\"\"\n",
    "    max_length = 0\n",
    "    for path in text_file_paths:\n",
    "        with open(path, 'r') as f:\n",
    "            text = f.read()\n",
    "            corpus = [\n",
    "                word for word in text.split()\n",
    "            ]\n",
    "        if len(corpus) > max_length:\n",
    "            max_length = len(corpus)\n",
    "    return max_length\n",
    "\n",
    "\n",
    "file_paths = []\n",
    "file_paths.extend(glob.glob(os.path.join(\n",
    "    dataset_dir, '*.txt'\n",
    ")))\n",
    "longest_sentence_length = find_longest_length(file_paths)\n",
    "print(f\"Total words (possibly, without tokenization): {longest_sentence_length} words\")"
   ]
  },
  {
   "cell_type": "code",
   "execution_count": 7,
   "id": "67f94dab",
   "metadata": {},
   "outputs": [],
   "source": [
    "# Number of words to generate in a sentence.\n",
    "SEQUENCE_LENGTH = 128\n",
    "NUM_WORDS = 50304  # Vocabulary size.\n",
    "\n",
    "# Batch size.\n",
    "BATCH_SIZE = 1\n",
    "VALID_SPLIT = 0.1\n",
    "MAX_ITERS = 10000"
   ]
  },
  {
   "cell_type": "markdown",
   "id": "79dcefd8",
   "metadata": {},
   "source": [
    "### Helper Functions \n",
    "\n",
    "A few helper functions to prepare the dataset."
   ]
  },
  {
   "cell_type": "code",
   "execution_count": 8,
   "id": "5beabba6",
   "metadata": {},
   "outputs": [],
   "source": [
    "def find_word_frequency(\n",
    "    text_file_paths, num_files, most_common=None\n",
    "):\n",
    "    \"\"\"\n",
    "    Create a list of tuples of the following format,\n",
    "    [('ho', 2), ('hello', 1), (\"let's\", 1), ('go', 1)]\n",
    "    where the number represents the frequency of occurance of \n",
    "    the word in the entire dataset.\n",
    "\n",
    "    :param text_file_paths: List, containing all the text file paths.\n",
    "    :param most_common: Return these many top words from the dataset.\n",
    "        If `most_common` is None, return all. If `most_common` is 3,\n",
    "        returns the top 3 tuple pairs in the list.\n",
    "\n",
    "    Returns:\n",
    "        sorted_words: A list of tuple containing each word and it's\n",
    "        frequency of the format ('ho', 2), ('hello', 1), ...]\n",
    "    \"\"\"\n",
    "    # Add all the words in the entire dataset to `corpus` list.\n",
    "    corpus = []\n",
    "    for i, path in enumerate(text_file_paths):\n",
    "        if i+1 == num_files:\n",
    "            break\n",
    "        with open(path, 'r') as f:\n",
    "            text = f.read()\n",
    "            # Remove <br> tags.\n",
    "            text = re.sub('<[^>]+>+', '', text)\n",
    "            corpus.extend([\n",
    "                word for word in text.split()\n",
    "            ])\n",
    "    count_words = Counter(corpus)\n",
    "    # Create a dictionary with the most common word in the corpus \n",
    "    # at the beginning.\n",
    "    # `word_frequency` will be like \n",
    "    word_frequency = count_words.most_common(n=most_common) # Returns all as n is `None`.\n",
    "    return word_frequency"
   ]
  },
  {
   "cell_type": "code",
   "execution_count": 9,
   "id": "3175f635",
   "metadata": {},
   "outputs": [],
   "source": [
    "def word2int(input_words, num_words):\n",
    "    \"\"\"\n",
    "    Create a dictionary of word to integer mapping for each unique word.\n",
    "\n",
    "    :param input_words: A list of tuples containing the words and \n",
    "        theiry frequency. Should be of the following format,\n",
    "        [('ho', 2), ('hello', 1), (\"let's\", 1), ('go', 1)]\n",
    "    :param num_words: Number of words to use from the `input_words` list \n",
    "        to create the mapping. If -1, use all words in the dataset.\n",
    "\n",
    "    Returns:\n",
    "        int_mapping: A dictionary of word and a integer mapping as \n",
    "            key-value pair. Example, {'Hello,': 1, 'the': 2, 'let': 3}\n",
    "    \"\"\"\n",
    "\n",
    "    if num_words > -1:\n",
    "        int_mapping = {\n",
    "            w:i+1 for i, (w, c) in enumerate(input_words) \\\n",
    "                if i <= num_words - 1 # -1 to avoid getting (num_words + 1) integer mapping.\n",
    "        }\n",
    "    else:\n",
    "        int_mapping = {w:i+1 for i, (w, c) in enumerate(input_words)}\n",
    "    return int_mapping"
   ]
  },
  {
   "cell_type": "markdown",
   "id": "0c839d68",
   "metadata": {},
   "source": [
    "### Tiktoken"
   ]
  },
  {
   "cell_type": "code",
   "execution_count": 10,
   "id": "6d56e82b",
   "metadata": {},
   "outputs": [],
   "source": [
    "enc = tiktoken.encoding_for_model(\"gpt2\")"
   ]
  },
  {
   "cell_type": "markdown",
   "id": "34a58440",
   "metadata": {},
   "source": [
    "## Prepare PyTorch Datasets and Data Loaders"
   ]
  },
  {
   "cell_type": "code",
   "execution_count": 11,
   "id": "7ac014e1",
   "metadata": {},
   "outputs": [],
   "source": [
    "file_paths = os.path.join(dataset_dir, train_file[0])"
   ]
  },
  {
   "cell_type": "code",
   "execution_count": 12,
   "id": "c29007b2",
   "metadata": {},
   "outputs": [],
   "source": [
    "dataset_inst = NLPDataset(file_paths, enc)\n",
    "dataset = dataset_inst.get_data()"
   ]
  },
  {
   "cell_type": "code",
   "execution_count": 13,
   "id": "a1e7d42c",
   "metadata": {},
   "outputs": [
    {
     "name": "stdout",
     "output_type": "stream",
     "text": [
      "Total tokens: torch.Size([1536])\n",
      "Number of unique tokens: 618\n"
     ]
    }
   ],
   "source": [
    "print(f\"Total tokens: {dataset.shape}\")\n",
    "print(f\"Number of unique tokens: {len(np.unique(dataset))}\")\n",
    "# print(f\"Number of chosen words to act as vocabulary (tokens): {len(int_mapping)}\")"
   ]
  },
  {
   "cell_type": "code",
   "execution_count": 14,
   "id": "9def8720",
   "metadata": {},
   "outputs": [
    {
     "name": "stdout",
     "output_type": "stream",
     "text": [
      "Number of training samples: 1383\n",
      "Number of validation samples: 153\n"
     ]
    }
   ],
   "source": [
    "dataset_size = len(dataset)\n",
    "# Calculate the validation dataset size.\n",
    "valid_size = int(VALID_SPLIT*dataset_size)\n",
    "# Radomize the data indices.\n",
    "indices = torch.randperm(len(dataset)).tolist()\n",
    "# Training and validation sets.\n",
    "dataset_train = dataset[:-valid_size]\n",
    "dataset_valid = dataset[-valid_size:]\n",
    "\n",
    "print(f\"Number of training samples: {len(dataset_train)}\")\n",
    "print(f\"Number of validation samples: {len(dataset_valid)}\")"
   ]
  },
  {
   "cell_type": "code",
   "execution_count": 15,
   "id": "c0361eaf",
   "metadata": {},
   "outputs": [
    {
     "name": "stdout",
     "output_type": "stream",
     "text": [
      "1383\n",
      "153\n"
     ]
    }
   ],
   "source": [
    "print(dataset_train.size(0))\n",
    "print(dataset_valid.size(0))"
   ]
  },
  {
   "cell_type": "code",
   "execution_count": 16,
   "id": "afa95d88",
   "metadata": {},
   "outputs": [
    {
     "name": "stdout",
     "output_type": "stream",
     "text": [
      "cuda\n"
     ]
    }
   ],
   "source": [
    "device = torch.device('cuda' if torch.cuda.is_available() else 'cpu')\n",
    "print(device)"
   ]
  },
  {
   "cell_type": "code",
   "execution_count": 17,
   "id": "a9e45605",
   "metadata": {},
   "outputs": [],
   "source": [
    "# for i, batch in enumerate(dataset_train):\n",
    "#     inp, tgt = get_batch('train')\n",
    "#     print(inp)\n",
    "#     print(tgt)\n",
    "#     inp_words = ''\n",
    "#     tgt_words = ''\n",
    "#     inp = inp[0].cpu().numpy()\n",
    "#     tgt = tgt[0].cpu().numpy()\n",
    "#     print(len(inp))\n",
    "#     print(len(tgt))\n",
    "#     for idx in inp:\n",
    "#         inp_words += ' ' + int2word_train[idx]\n",
    "#     print(inp_words)\n",
    "#     print('*'*50)\n",
    "#     for idx in tgt:\n",
    "#         tgt_words += ' ' + int2word_train[idx]\n",
    "#     print(tgt_words)\n",
    "#     if i == 2:\n",
    "#         break"
   ]
  },
  {
   "cell_type": "markdown",
   "id": "66743536",
   "metadata": {},
   "source": [
    "## Model"
   ]
  },
  {
   "cell_type": "code",
   "execution_count": 18,
   "id": "513af03c",
   "metadata": {},
   "outputs": [],
   "source": [
    "model = Transformer(\n",
    "    embed_dim=512, \n",
    "    src_vocab_size=NUM_WORDS, \n",
    "    seq_len=SEQUENCE_LENGTH,\n",
    "    num_layers=6, \n",
    "    expansion_factor=4, \n",
    "    n_heads=8,\n",
    ")"
   ]
  },
  {
   "cell_type": "code",
   "execution_count": 19,
   "id": "5621ac84",
   "metadata": {},
   "outputs": [],
   "source": [
    "_ = model.to(device)"
   ]
  },
  {
   "cell_type": "markdown",
   "id": "5508f234",
   "metadata": {},
   "source": [
    "## Training"
   ]
  },
  {
   "cell_type": "code",
   "execution_count": 20,
   "id": "b96fd55e",
   "metadata": {},
   "outputs": [
    {
     "name": "stdout",
     "output_type": "stream",
     "text": [
      "Transformer(\n",
      "  (encoder): TransformerEncoder(\n",
      "    (embedding): Embedding(\n",
      "      (embed): Embedding(50304, 512)\n",
      "    )\n",
      "    (positional_encoding): PositionalEncoding(\n",
      "      (dropout): Dropout(p=0.1, inplace=False)\n",
      "    )\n",
      "    (layers): ModuleList(\n",
      "      (0-5): 6 x TransformerBlock(\n",
      "        (attention): MultiHeadAttention(\n",
      "          (q): Linear(in_features=64, out_features=64, bias=True)\n",
      "          (k): Linear(in_features=64, out_features=64, bias=True)\n",
      "          (v): Linear(in_features=64, out_features=64, bias=True)\n",
      "          (out): Linear(in_features=512, out_features=512, bias=True)\n",
      "        )\n",
      "        (norm1): LayerNorm((512,), eps=1e-05, elementwise_affine=True)\n",
      "        (norm2): LayerNorm((512,), eps=1e-05, elementwise_affine=True)\n",
      "        (ffn): Sequential(\n",
      "          (0): Linear(in_features=512, out_features=2048, bias=True)\n",
      "          (1): ReLU()\n",
      "          (2): Linear(in_features=2048, out_features=512, bias=True)\n",
      "        )\n",
      "        (dropout1): Dropout(p=0.3, inplace=False)\n",
      "        (dropout2): Dropout(p=0.3, inplace=False)\n",
      "      )\n",
      "    )\n",
      "  )\n",
      "  (decoder): Linear(in_features=512, out_features=50304, bias=True)\n",
      ")\n",
      "Adjusting learning rate of group 0 to 1.0000e-04.\n",
      "65,822,976 total parameters.\n",
      "65,822,976 training parameters.\n",
      "\n"
     ]
    }
   ],
   "source": [
    "print(model)\n",
    "criterion = nn.CrossEntropyLoss()\n",
    "optimizer = optim.AdamW(\n",
    "    model.parameters(), \n",
    "    lr=0.0001,\n",
    ")\n",
    "\n",
    "# StepLR every specific number of epochs.\n",
    "scheduler = StepLR(\n",
    "    optimizer, \n",
    "    step_size=5, \n",
    "    gamma=0.5,\n",
    "    verbose=True\n",
    ")\n",
    "\n",
    "# Total parameters and trainable parameters.\n",
    "total_params = sum(p.numel() for p in model.parameters())\n",
    "print(f\"{total_params:,} total parameters.\")\n",
    "total_trainable_params = sum(\n",
    "    p.numel() for p in model.parameters() if p.requires_grad)\n",
    "print(f\"{total_trainable_params:,} training parameters.\\n\")"
   ]
  },
  {
   "cell_type": "code",
   "execution_count": 21,
   "id": "999052b3",
   "metadata": {
    "scrolled": true,
    "tags": []
   },
   "outputs": [
    {
     "name": "stdout",
     "output_type": "stream",
     "text": [
      "[INFO]: Iteration 1 of 10000\n",
      "Training loss: 11.034963607788086\n",
      "Validation loss: 10.817375183105469\n",
      "--------------------------------------------------\n",
      "[INFO]: Iteration 251 of 10000\n",
      "Training loss: 5.258358955383301\n",
      "Validation loss: 7.109448432922363\n",
      "--------------------------------------------------\n",
      "[INFO]: Iteration 501 of 10000\n",
      "Training loss: 5.352518081665039\n",
      "Validation loss: 7.351409912109375\n",
      "--------------------------------------------------\n",
      "[INFO]: Iteration 751 of 10000\n",
      "Training loss: 5.5376505851745605\n",
      "Validation loss: 7.419107437133789\n",
      "--------------------------------------------------\n",
      "[INFO]: Iteration 1001 of 10000\n",
      "Training loss: 4.831578254699707\n",
      "Validation loss: 7.247293472290039\n",
      "--------------------------------------------------\n",
      "[INFO]: Iteration 1251 of 10000\n",
      "Training loss: 4.497918128967285\n",
      "Validation loss: 6.887321472167969\n",
      "--------------------------------------------------\n",
      "[INFO]: Iteration 1501 of 10000\n",
      "Training loss: 3.648399829864502\n",
      "Validation loss: 7.196255207061768\n",
      "--------------------------------------------------\n",
      "[INFO]: Iteration 1751 of 10000\n",
      "Training loss: 3.387037515640259\n",
      "Validation loss: 7.3555450439453125\n",
      "--------------------------------------------------\n",
      "[INFO]: Iteration 2001 of 10000\n",
      "Training loss: 3.0407679080963135\n",
      "Validation loss: 7.307822227478027\n",
      "--------------------------------------------------\n",
      "[INFO]: Iteration 2251 of 10000\n",
      "Training loss: 2.8256752490997314\n",
      "Validation loss: 7.903979301452637\n",
      "--------------------------------------------------\n",
      "[INFO]: Iteration 2501 of 10000\n",
      "Training loss: 2.605431318283081\n",
      "Validation loss: 8.092059135437012\n",
      "--------------------------------------------------\n",
      "[INFO]: Iteration 2751 of 10000\n",
      "Training loss: 2.0918619632720947\n",
      "Validation loss: 8.33417797088623\n",
      "--------------------------------------------------\n",
      "[INFO]: Iteration 3001 of 10000\n",
      "Training loss: 2.018738269805908\n",
      "Validation loss: 8.685895919799805\n",
      "--------------------------------------------------\n",
      "[INFO]: Iteration 3251 of 10000\n",
      "Training loss: 2.4492392539978027\n",
      "Validation loss: 9.05332088470459\n",
      "--------------------------------------------------\n",
      "[INFO]: Iteration 3501 of 10000\n",
      "Training loss: 1.6832093000411987\n",
      "Validation loss: 8.572360038757324\n",
      "--------------------------------------------------\n",
      "[INFO]: Iteration 3751 of 10000\n",
      "Training loss: 1.6847561597824097\n",
      "Validation loss: 8.951409339904785\n",
      "--------------------------------------------------\n",
      "[INFO]: Iteration 4001 of 10000\n",
      "Training loss: 1.9892278909683228\n",
      "Validation loss: 8.879190444946289\n",
      "--------------------------------------------------\n",
      "[INFO]: Iteration 4251 of 10000\n",
      "Training loss: 1.370074987411499\n",
      "Validation loss: 9.339239120483398\n",
      "--------------------------------------------------\n",
      "[INFO]: Iteration 4501 of 10000\n",
      "Training loss: 1.3657243251800537\n",
      "Validation loss: 9.655837059020996\n",
      "--------------------------------------------------\n",
      "[INFO]: Iteration 4751 of 10000\n",
      "Training loss: 1.1693379878997803\n",
      "Validation loss: 9.834601402282715\n",
      "--------------------------------------------------\n",
      "[INFO]: Iteration 5001 of 10000\n",
      "Training loss: 1.55204176902771\n",
      "Validation loss: 9.520649909973145\n",
      "--------------------------------------------------\n",
      "[INFO]: Iteration 5251 of 10000\n",
      "Training loss: 1.4609830379486084\n",
      "Validation loss: 10.013784408569336\n",
      "--------------------------------------------------\n",
      "[INFO]: Iteration 5501 of 10000\n",
      "Training loss: 1.0715010166168213\n",
      "Validation loss: 9.841815948486328\n",
      "--------------------------------------------------\n",
      "[INFO]: Iteration 5751 of 10000\n",
      "Training loss: 1.1829618215560913\n",
      "Validation loss: 10.169844627380371\n",
      "--------------------------------------------------\n",
      "[INFO]: Iteration 6001 of 10000\n",
      "Training loss: 1.5139087438583374\n",
      "Validation loss: 9.894120216369629\n",
      "--------------------------------------------------\n",
      "[INFO]: Iteration 6251 of 10000\n",
      "Training loss: 1.1830098628997803\n",
      "Validation loss: 10.384358406066895\n",
      "--------------------------------------------------\n",
      "[INFO]: Iteration 6501 of 10000\n",
      "Training loss: 1.1753835678100586\n",
      "Validation loss: 10.1748628616333\n",
      "--------------------------------------------------\n",
      "[INFO]: Iteration 6751 of 10000\n",
      "Training loss: 1.0842684507369995\n",
      "Validation loss: 11.110416412353516\n",
      "--------------------------------------------------\n",
      "[INFO]: Iteration 7001 of 10000\n",
      "Training loss: 1.5449833869934082\n",
      "Validation loss: 10.723201751708984\n",
      "--------------------------------------------------\n",
      "[INFO]: Iteration 7251 of 10000\n",
      "Training loss: 1.1070966720581055\n",
      "Validation loss: 10.897187232971191\n",
      "--------------------------------------------------\n",
      "[INFO]: Iteration 7501 of 10000\n",
      "Training loss: 0.9041012525558472\n",
      "Validation loss: 11.173858642578125\n",
      "--------------------------------------------------\n",
      "[INFO]: Iteration 7751 of 10000\n",
      "Training loss: 1.2419276237487793\n",
      "Validation loss: 10.775506973266602\n",
      "--------------------------------------------------\n",
      "[INFO]: Iteration 8001 of 10000\n",
      "Training loss: 0.9426394701004028\n",
      "Validation loss: 10.7014741897583\n",
      "--------------------------------------------------\n",
      "[INFO]: Iteration 8251 of 10000\n",
      "Training loss: 0.884111225605011\n",
      "Validation loss: 11.144967079162598\n",
      "--------------------------------------------------\n",
      "[INFO]: Iteration 8501 of 10000\n",
      "Training loss: 0.9434467554092407\n",
      "Validation loss: 11.569226264953613\n",
      "--------------------------------------------------\n",
      "[INFO]: Iteration 8751 of 10000\n",
      "Training loss: 0.9030468463897705\n",
      "Validation loss: 11.0862398147583\n",
      "--------------------------------------------------\n",
      "[INFO]: Iteration 9001 of 10000\n",
      "Training loss: 0.7856153249740601\n",
      "Validation loss: 11.531911849975586\n",
      "--------------------------------------------------\n",
      "[INFO]: Iteration 9251 of 10000\n",
      "Training loss: 0.9019613862037659\n",
      "Validation loss: 11.540119171142578\n",
      "--------------------------------------------------\n",
      "[INFO]: Iteration 9501 of 10000\n",
      "Training loss: 0.9098926782608032\n",
      "Validation loss: 11.245468139648438\n",
      "--------------------------------------------------\n",
      "[INFO]: Iteration 9751 of 10000\n",
      "Training loss: 0.8660503625869751\n",
      "Validation loss: 11.614462852478027\n",
      "--------------------------------------------------\n"
     ]
    }
   ],
   "source": [
    "# Lists to keep track of losses and accuracies.\n",
    "train_loss, valid_loss = [], []\n",
    "# Start the training.\n",
    "for iteration in range(MAX_ITERS):\n",
    "    train_step_loss = train_step(\n",
    "        model, \n",
    "        dataset_train, \n",
    "        optimizer, \n",
    "        criterion,\n",
    "        SEQUENCE_LENGTH,\n",
    "        NUM_WORDS,\n",
    "        BATCH_SIZE,\n",
    "        device\n",
    "    )\n",
    "    valid_step_loss = val_step(\n",
    "        model, \n",
    "        dataset_valid,  \n",
    "        criterion,\n",
    "        SEQUENCE_LENGTH,\n",
    "        NUM_WORDS,\n",
    "        BATCH_SIZE,\n",
    "        device\n",
    "    )\n",
    "    train_loss.append(train_step_loss.cpu().detach().numpy())\n",
    "    valid_loss.append(valid_step_loss.cpu().detach().numpy())\n",
    "    if iteration % 250 == 0:\n",
    "        print(f\"[INFO]: Iteration {iteration+1} of {MAX_ITERS}\")\n",
    "        print(f\"Training loss: {train_step_loss}\")\n",
    "        print(f\"Validation loss: {valid_step_loss}\")\n",
    "        print('-'*50)\n",
    "    #     if epoch + 1 <= 32:\n",
    "#         scheduler.step()\n",
    "# Save model.\n",
    "torch.save(\n",
    "    model, os.path.join(CHECKPOINT_DIR, 'model.pth')\n",
    ")"
   ]
  },
  {
   "cell_type": "code",
   "execution_count": 22,
   "id": "56e504f9",
   "metadata": {},
   "outputs": [],
   "source": [
    "def save_plots(train_loss, valid_loss):\n",
    "    \"\"\"\n",
    "    Function to save the loss and accuracy plots to disk.\n",
    "    \"\"\"\n",
    "    plt.show()\n",
    "    # Loss plots.\n",
    "    plt.figure(figsize=(10, 7))\n",
    "    plt.plot(\n",
    "        train_loss, color='blue', linestyle='-', \n",
    "        label='train loss'\n",
    "    )\n",
    "    plt.plot(\n",
    "        valid_loss, color='red', linestyle='-', \n",
    "        label='validataion loss'\n",
    "    )\n",
    "    plt.xlabel('Epochs')\n",
    "    plt.ylabel('Loss')\n",
    "    plt.legend()\n",
    "#     plt.savefig(f\"../outputs/loss.png\")\n",
    "    plt.show()"
   ]
  },
  {
   "cell_type": "code",
   "execution_count": 23,
   "id": "e5e4eced",
   "metadata": {},
   "outputs": [
    {
     "data": {
      "image/png": "[encoded data removed]",
      "text/plain": [
       "<Figure size 1000x700 with 1 Axes>"
      ]
     },
     "metadata": {},
     "output_type": "display_data"
    }
   ],
   "source": [
    "save_plots(train_loss, valid_loss)"
   ]
  },
  {
   "cell_type": "markdown",
   "id": "6ee6468b",
   "metadata": {},
   "source": [
    "## Test Model"
   ]
  },
  {
   "cell_type": "code",
   "execution_count": 24,
   "id": "8c3810a2",
   "metadata": {},
   "outputs": [],
   "source": [
    "trained_model = torch.load(\n",
    "    os.path.join(CHECKPOINT_DIR, 'model.pth')\n",
    ")"
   ]
  },
  {
   "cell_type": "code",
   "execution_count": 25,
   "id": "01bc10b1",
   "metadata": {},
   "outputs": [],
   "source": [
    "# test_loss = validate(\n",
    "#     trained_model, \n",
    "#     dataset_test,  \n",
    "#     criterion, \n",
    "#     device\n",
    "# )\n",
    "\n",
    "# print(f\"Test loss: {test_loss}\")"
   ]
  },
  {
   "cell_type": "markdown",
   "id": "e86e1a2f",
   "metadata": {},
   "source": [
    "## Text Generation"
   ]
  },
  {
   "cell_type": "code",
   "execution_count": 26,
   "id": "f269eb64",
   "metadata": {},
   "outputs": [],
   "source": [
    "def return_int_vector(enc, text):\n",
    "        \"\"\"\n",
    "        Assign an integer to each word and return the integers in a list.\n",
    "        \"\"\"\n",
    "        return enc.encode(text)"
   ]
  },
  {
   "cell_type": "code",
   "execution_count": 27,
   "id": "9f9e7817",
   "metadata": {},
   "outputs": [],
   "source": [
    "enc = tiktoken.encoding_for_model(\"gpt2\")"
   ]
  },
  {
   "cell_type": "code",
   "execution_count": 28,
   "id": "c11d2a10",
   "metadata": {},
   "outputs": [],
   "source": [
    "def sample_next(predictions, temperature=1.0):\n",
    "    \"\"\"\n",
    "    Implement variable-temperature sampling from a probability\n",
    "    distribution.\n",
    "    \"\"\"\n",
    "    predictions = predictions.squeeze(0)[-1, :] / temperature\n",
    "    predictions = predictions.exp().cpu()\n",
    "    next_token = torch.multinomial(predictions, num_samples=1)\n",
    "    return int(next_token[0].cpu())\n",
    "    \n",
    "\n",
    "def text_generator(sentence, generate_length):\n",
    "    trained_model.eval()\n",
    "    temperatures = [0.1, 0.2, 0.3, 0.4, 0.5, 0.6, 0.7, 0.8, 0.9, 1.0] \n",
    "    for temeperature in temperatures:\n",
    "        sample = sentence\n",
    "        print(f\"GENERATED SENTENCE WITH TEMPERATURE {temeperature}\")\n",
    "        for i in range(generate_length):\n",
    "            int_vector = return_int_vector(enc, sample)\n",
    "            if len(int_vector) >= SEQUENCE_LENGTH - 1:\n",
    "                break\n",
    "            input_tensor = torch.tensor(int_vector, dtype=torch.int32)\n",
    "            input_tensor = input_tensor.unsqueeze(0).to(device)\n",
    "            with torch.no_grad():\n",
    "                predictions = trained_model(input_tensor)\n",
    "            next_token = sample_next(predictions)\n",
    "#             if next_token != 0: # Ignore <pad> index. Final sentence may be shorter.\n",
    "            sample += ' ' + enc.decode([next_token])\n",
    "        print(sample)\n",
    "        print('\\n')"
   ]
  },
  {
   "cell_type": "code",
   "execution_count": 29,
   "id": "9d418dfb",
   "metadata": {},
   "outputs": [],
   "source": [
    "sentences = [\n",
    "    \"Alice was a curious and wanted to go down the rabbit hole\"\n",
    "]"
   ]
  },
  {
   "cell_type": "code",
   "execution_count": 30,
   "id": "e9abc300-a7df-4f45-9940-982e8611e103",
   "metadata": {},
   "outputs": [],
   "source": [
    "generate_length = 128"
   ]
  },
  {
   "cell_type": "code",
   "execution_count": 31,
   "id": "9822d8b4",
   "metadata": {},
   "outputs": [
    {
     "name": "stdout",
     "output_type": "stream",
     "text": [
      "PROMPT: Alice was a curious and wanted to go down the rabbit hole\n",
      "GENERATED SENTENCE WITH TEMPERATURE 0.1\n",
      "Alice was a curious and wanted to go down the rabbit hole ,  afternoon ,  afternoon ,  fit  through  the  elusive  rabbit ,  if  she  couldn 't  sizes . Dr  rapidly  sizes . ah umbling  Mad  fit  aston  stumbled  upon  distort .  fell  pursuit  of  colors  and  shapes .  filled  with  doors  of  colors  and  imaginative  sunny  afternoon ,  not  just  ep hemer  sizes . 's  through  the  rabbit  were  not  just  shape  the  world  called\n",
      "\n",
      "\n",
      "GENERATED SENTENCE WITH TEMPERATURE 0.2\n",
      "Alice was a curious and wanted to go down the rabbit hole  and  distort . Dr  floating  in  Wonderland .  enchant ing  curls  noticed  distort .  reminder  to  claimed  couldn 't  the  rabbit ,  tale  remains  match  using  flaming \n",
      " \n",
      " As  Alice  pleaded  with  the  Kn ave  souls  execution .  reminder  to  self - . . . . al  by  the  situation  spir  only  in \n",
      " \n",
      "  grew  in With  the  answers  they  conquer  through  Alice\n",
      "\n",
      "\n",
      "GENERATED SENTENCE WITH TEMPERATURE 0.3\n",
      "Alice was a curious and wanted to go down the rabbit hole . Dr  floating  in  a  garden  but  a  rare  gift —  connection  to  Alice  that  she  were  across  the  depths  of  her  consciousness .  filled  with  doors  of  Dream  We avers  head - a  group  of  purpose ,  a  mere  dream ers  across  the  lives  of  Dream  not  just  a  group  of Through  her  role  as  a  Dream  Realm .  to  she\n",
      "\n",
      "\n",
      "GENERATED SENTENCE WITH TEMPERATURE 0.4\n",
      "Alice was a curious and wanted to go down the rabbit hole ,  afternoon ,  continue  her  began  to  the  world  around  her  consciousness . op  her  lucid  dreaming  person ified ued  her  consciousness .  that  she  stepped  through  the  hidden  depths  of  Dream  We avers  knew  she  possessed  a  rare  gift — — — — — on  a  sense  of  Dream  We avers  profound  connection  that  she  Dream  We  in  need .  to  she  met\n",
      "\n",
      "\n",
      "GENERATED SENTENCE WITH TEMPERATURE 0.5\n",
      "Alice was a curious and wanted to go down the rabbit hole ,  afternoon ,  fit  current  size . Dr ah ah  landed ,  thought ,  afternoon ,  connection  to  shapes . Dr  Curiosity  getting  while  chasing  a  small  door ,  all  sizes .  that  seemed  to  the  rabbit  hole  and  distort .  traces  of  the  me adow  a  playful  traces  where  depths  of  light  of  dreams  world  revealed  to  dreams  were  explained  that  she  had  to\n",
      "\n",
      "\n",
      "GENERATED SENTENCE WITH TEMPERATURE 0.6\n",
      "Alice was a curious and wanted to go down the rabbit hole ,  afternoon ,  dream  but  a  tangible  world  accessible  through  the  world  accessible  through  the  world  accessible  through  the  depths  of  Dream  We avers  stumbled  not  just  a  Dream  Weaver ,  help  in  Wonderland  of  dreams  of  dreams .  to  Alice  embraced  her  consciousness  of  Dream  not  sought  her  to  Dream  this  adventurous  troubled  a  mere  portals ,  consciousness .  to\n",
      "\n",
      "\n",
      "GENERATED SENTENCE WITH TEMPERATURE 0.7\n",
      "Alice was a curious and wanted to go down the rabbit hole ,  a  garden .  white  rabbit ,  twist  and  distort .  floating  in  room  filled  with  her  adventurous  we  world  accessible  through  the  lives  of  dreams  and  sought  her  experiences  in  wisdom  and  hope . hemer iscovery  Weaver ,  dream ers  across  powerful  portals  to  bring  inspiration ,  dream sc  not  just  Alice  embraced  her  explored  this  potential .  to  those  in\n",
      "\n",
      "\n",
      "GENERATED SENTENCE WITH TEMPERATURE 0.8\n",
      "Alice was a curious and wanted to go down the rabbit hole ,  afternoon ,  disappeared  at  doors  of  all  sizes . first umbling  herself  in  Wonderland .  enchant ing  m op  by  a  peculiar  room . .  reminder  to  us  She  felt  with  follow  the d  wisdom  people  sought  out \n",
      "  She  helped  and  writers  seeking  sol ace ,  ep hemer  portals  to  those  only al  when hemer \n",
      " With  illusions  but  need . hemer  more\n",
      "\n",
      "\n",
      "GENERATED SENTENCE WITH TEMPERATURE 0.9\n",
      "Alice was a curious and wanted to go down the rabbit hole ,  a  peculiar  room  filled  with  doors  of  others .  shared  dream scape  not  just  a  kale id  just  a  mere  dream  but  a  kale id  dream scape  sunny  just  a  tangible  world  accessible  through  the  Dream  Realm .  accessible  through  and  hope .  to  those  gift The  depths  of  Int rig  shared  dream scape  souls  seeking  a  Dream  Weaver ,  she\n",
      "\n",
      "\n",
      "GENERATED SENTENCE WITH TEMPERATURE 1.0\n",
      "Alice was a curious and wanted to go down the rabbit hole ,  afternoon ,  a  garden  of  colors  and  shapes .  around  her  surprise ,  afternoon ,  Weaver ,  Realm .  shared  dream scape umbling  through  the  rabbit  hole .  traces  of  the  secrets  of  purpose ,  not  just  a  mere  dream scape  not  just  ep hemer F  the  lives  of  purpose ,  bring  sol ace  behind  traces  of  dreams .  to  influence  and  hope\n",
      "\n",
      "\n",
      "\n",
      "############\n",
      "\n"
     ]
    }
   ],
   "source": [
    "for sentence in sentences:\n",
    "    print(f\"PROMPT: {sentence}\")\n",
    "    text_generator(sentence, generate_length)\n",
    "    print('\\n############\\n')"
   ]
  },
  {
   "cell_type": "code",
   "execution_count": null,
   "id": "7c16e047",
   "metadata": {},
   "outputs": [],
   "source": []
  },
  {
   "cell_type": "code",
   "execution_count": null,
   "id": "7ace2233",
   "metadata": {},
   "outputs": [],
   "source": []
  }
 ],
 "metadata": {
  "kernelspec": {
   "display_name": "Python 3 (ipykernel)",
   "language": "python",
   "name": "python3"
  },
  "language_info": {
   "codemirror_mode": {
    "name": "ipython",
    "version": 3
   },
   "file_extension": ".py",
   "mimetype": "text/x-python",
   "name": "python",
   "nbconvert_exporter": "python",
   "pygments_lexer": "ipython3",
   "version": "3.10.11"
  }
 },
 "nbformat": 4,
 "nbformat_minor": 5
}
