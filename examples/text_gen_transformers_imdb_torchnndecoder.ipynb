{
 "cells": [
  {
   "cell_type": "markdown",
   "id": "a7eaf129",
   "metadata": {},
   "source": [
    "# Introduction\n",
    "\n",
    "Find small single text files for **Language Modeling** experiements here ⬇️\n",
    "\n",
    "https://www.kaggle.com/datasets/sovitrath/text-generation-language-modeling"
   ]
  },
  {
   "cell_type": "code",
   "execution_count": 1,
   "id": "0ab67365",
   "metadata": {},
   "outputs": [],
   "source": [
    "import torch\n",
    "import os\n",
    "import numpy as np\n",
    "import string\n",
    "import re\n",
    "import glob\n",
    "import torch.nn as nn\n",
    "import torch.nn.functional as F\n",
    "import torch.optim as optim\n",
    "import matplotlib.pyplot as plt\n",
    "import math\n",
    "import tiktoken\n",
    "\n",
    "from tqdm.auto import tqdm\n",
    "from utils.text_gen import get_batch, train_step, val_step, NLPDataset\n",
    "from collections import Counter\n",
    "from torch.utils.data import DataLoader, Dataset, Subset\n",
    "from torch.optim.lr_scheduler import StepLR"
   ]
  },
  {
   "cell_type": "code",
   "execution_count": 2,
   "id": "c113ac09",
   "metadata": {},
   "outputs": [],
   "source": [
    "# Set seed.\n",
    "seed = 42\n",
    "np.random.seed(seed)\n",
    "torch.manual_seed(seed)\n",
    "torch.cuda.manual_seed(seed)\n",
    "torch.backends.cudnn.deterministic = True\n",
    "torch.backends.cudnn.benchmark = True"
   ]
  },
  {
   "cell_type": "code",
   "execution_count": 3,
   "id": "67a64d0a",
   "metadata": {},
   "outputs": [
    {
     "name": "stdout",
     "output_type": "stream",
     "text": [
      "Sat Nov 11 09:55:15 2023       \n",
      "+---------------------------------------------------------------------------------------+\n",
      "| NVIDIA-SMI 535.129.03             Driver Version: 535.129.03   CUDA Version: 12.2     |\n",
      "|-----------------------------------------+----------------------+----------------------+\n",
      "| GPU  Name                 Persistence-M | Bus-Id        Disp.A | Volatile Uncorr. ECC |\n",
      "| Fan  Temp   Perf          Pwr:Usage/Cap |         Memory-Usage | GPU-Util  Compute M. |\n",
      "|                                         |                      |               MIG M. |\n",
      "|=========================================+======================+======================|\n",
      "|   0  NVIDIA GeForce RTX 3080        Off | 00000000:01:00.0  On |                  N/A |\n",
      "|  0%   42C    P8              23W / 370W |   2845MiB / 10240MiB |     15%      Default |\n",
      "|                                         |                      |                  N/A |\n",
      "+-----------------------------------------+----------------------+----------------------+\n",
      "                                                                                         \n",
      "+---------------------------------------------------------------------------------------+\n",
      "| Processes:                                                                            |\n",
      "|  GPU   GI   CI        PID   Type   Process name                            GPU Memory |\n",
      "|        ID   ID                                                             Usage      |\n",
      "|=======================================================================================|\n",
      "|    0   N/A  N/A      1245      G   /usr/lib/xorg/Xorg                           35MiB |\n",
      "|    0   N/A  N/A      2298      G   /usr/lib/xorg/Xorg                          198MiB |\n",
      "|    0   N/A  N/A      2424      G   /usr/bin/gnome-shell                         49MiB |\n",
      "|    0   N/A  N/A    160156    C+G   ...8978507,10309031026873833778,262144      159MiB |\n",
      "|    0   N/A  N/A    170419      C   ...iconda3/envs/experiments/bin/python     2356MiB |\n",
      "+---------------------------------------------------------------------------------------+\n"
     ]
    }
   ],
   "source": [
    "!nvidia-smi"
   ]
  },
  {
   "cell_type": "code",
   "execution_count": 4,
   "id": "bb8a3761",
   "metadata": {},
   "outputs": [],
   "source": [
    "CHECKPOINT_DIR = 'outputs/text_gen_simple_dec_imdb' \n",
    "os.makedirs(CHECKPOINT_DIR, exist_ok=True)"
   ]
  },
  {
   "cell_type": "code",
   "execution_count": 5,
   "id": "f536148c",
   "metadata": {},
   "outputs": [
    {
     "name": "stdout",
     "output_type": "stream",
     "text": [
      "['imdb_train.txt']\n"
     ]
    }
   ],
   "source": [
    "dataset_dir = os.path.join('../../input/imdb_single_file/train/')\n",
    "train_file = os.listdir(dataset_dir)\n",
    "print(train_file)"
   ]
  },
  {
   "cell_type": "markdown",
   "id": "36c2fac3",
   "metadata": {},
   "source": [
    "## Prepare the Dataset\n",
    "Let's find the longest review in the entire training set. As this will also contain the <br> tags, we will take the average of that.\n",
    "\n",
    "We will pad the smaller sentences to this average length and truncate the longer sentences to the average length."
   ]
  },
  {
   "cell_type": "code",
   "execution_count": 6,
   "id": "b0eb7e39",
   "metadata": {},
   "outputs": [
    {
     "name": "stdout",
     "output_type": "stream",
     "text": [
      "Total words (possibly, without tokenization): 17566362 words\n"
     ]
    }
   ],
   "source": [
    "def find_longest_length(text_file_paths):\n",
    "    \"\"\"\n",
    "    Find the longest review length in the entire training set. \n",
    "\n",
    "    :param text_file_paths: List, containing all the text file paths.\n",
    "\n",
    "    Returns:\n",
    "        max_len: Longest review length.\n",
    "    \"\"\"\n",
    "    max_length = 0\n",
    "    for path in text_file_paths:\n",
    "        with open(path, 'r') as f:\n",
    "            text = f.read()\n",
    "            corpus = [\n",
    "                word for word in text.split()\n",
    "            ]\n",
    "        if len(corpus) > max_length:\n",
    "            max_length = len(corpus)\n",
    "    return max_length\n",
    "\n",
    "\n",
    "file_paths = []\n",
    "file_paths.extend(glob.glob(os.path.join(\n",
    "    dataset_dir, '*.txt'\n",
    ")))\n",
    "longest_sentence_length = find_longest_length(file_paths)\n",
    "print(f\"Total words (possibly, without tokenization): {longest_sentence_length} words\")"
   ]
  },
  {
   "cell_type": "code",
   "execution_count": 7,
   "id": "67f94dab",
   "metadata": {},
   "outputs": [],
   "source": [
    "# Number of words to generate in a sentence.\n",
    "SEQUENCE_LENGTH = 256\n",
    "NUM_WORDS = 50257  # Vocabulary size.\n",
    "\n",
    "# Batch size.\n",
    "BATCH_SIZE = 16\n",
    "VALID_SPLIT = 0.2\n",
    "MAX_ITERS = 10000"
   ]
  },
  {
   "cell_type": "markdown",
   "id": "79dcefd8",
   "metadata": {},
   "source": [
    "### Helper Functions \n",
    "\n",
    "A few helper functions to prepare the dataset."
   ]
  },
  {
   "cell_type": "code",
   "execution_count": 8,
   "id": "5beabba6",
   "metadata": {},
   "outputs": [],
   "source": [
    "def find_word_frequency(\n",
    "    text_file_paths, num_files, most_common=None\n",
    "):\n",
    "    \"\"\"\n",
    "    Create a list of tuples of the following format,\n",
    "    [('ho', 2), ('hello', 1), (\"let's\", 1), ('go', 1)]\n",
    "    where the number represents the frequency of occurance of \n",
    "    the word in the entire dataset.\n",
    "\n",
    "    :param text_file_paths: List, containing all the text file paths.\n",
    "    :param most_common: Return these many top words from the dataset.\n",
    "        If `most_common` is None, return all. If `most_common` is 3,\n",
    "        returns the top 3 tuple pairs in the list.\n",
    "\n",
    "    Returns:\n",
    "        sorted_words: A list of tuple containing each word and it's\n",
    "        frequency of the format ('ho', 2), ('hello', 1), ...]\n",
    "    \"\"\"\n",
    "    # Add all the words in the entire dataset to `corpus` list.\n",
    "    corpus = []\n",
    "    for i, path in enumerate(text_file_paths):\n",
    "        if i+1 == num_files:\n",
    "            break\n",
    "        with open(path, 'r') as f:\n",
    "            text = f.read()\n",
    "            # Remove <br> tags.\n",
    "            text = re.sub('<[^>]+>+', '', text)\n",
    "            corpus.extend([\n",
    "                word for word in text.split()\n",
    "            ])\n",
    "    count_words = Counter(corpus)\n",
    "    # Create a dictionary with the most common word in the corpus \n",
    "    # at the beginning.\n",
    "    # `word_frequency` will be like \n",
    "    word_frequency = count_words.most_common(n=most_common) # Returns all as n is `None`.\n",
    "    return word_frequency"
   ]
  },
  {
   "cell_type": "code",
   "execution_count": 9,
   "id": "3175f635",
   "metadata": {},
   "outputs": [],
   "source": [
    "def word2int(input_words, num_words):\n",
    "    \"\"\"\n",
    "    Create a dictionary of word to integer mapping for each unique word.\n",
    "\n",
    "    :param input_words: A list of tuples containing the words and \n",
    "        theiry frequency. Should be of the following format,\n",
    "        [('ho', 2), ('hello', 1), (\"let's\", 1), ('go', 1)]\n",
    "    :param num_words: Number of words to use from the `input_words` list \n",
    "        to create the mapping. If -1, use all words in the dataset.\n",
    "\n",
    "    Returns:\n",
    "        int_mapping: A dictionary of word and a integer mapping as \n",
    "            key-value pair. Example, {'Hello,': 1, 'the': 2, 'let': 3}\n",
    "    \"\"\"\n",
    "\n",
    "    if num_words > -1:\n",
    "        int_mapping = {\n",
    "            w:i+1 for i, (w, c) in enumerate(input_words) \\\n",
    "                if i <= num_words - 1 # -1 to avoid getting (num_words + 1) integer mapping.\n",
    "        }\n",
    "    else:\n",
    "        int_mapping = {w:i+1 for i, (w, c) in enumerate(input_words)}\n",
    "    return int_mapping"
   ]
  },
  {
   "cell_type": "markdown",
   "id": "0c839d68",
   "metadata": {},
   "source": [
    "### Tiktoken"
   ]
  },
  {
   "cell_type": "code",
   "execution_count": 10,
   "id": "9e4824c1",
   "metadata": {},
   "outputs": [],
   "source": [
    "enc = tiktoken.encoding_for_model(\"gpt2\")"
   ]
  },
  {
   "cell_type": "code",
   "execution_count": 11,
   "id": "995cc9b6-75b9-4635-8ac8-4f4824c5cc16",
   "metadata": {},
   "outputs": [
    {
     "data": {
      "text/plain": [
       "50257"
      ]
     },
     "execution_count": 11,
     "metadata": {},
     "output_type": "execute_result"
    }
   ],
   "source": [
    "enc.n_vocab"
   ]
  },
  {
   "cell_type": "markdown",
   "id": "34a58440",
   "metadata": {},
   "source": [
    "## Prepare PyTorch Datasets and Data Loaders"
   ]
  },
  {
   "cell_type": "code",
   "execution_count": 12,
   "id": "7ac014e1",
   "metadata": {},
   "outputs": [],
   "source": [
    "file_paths = os.path.join(dataset_dir, train_file[0])"
   ]
  },
  {
   "cell_type": "code",
   "execution_count": 13,
   "id": "c29007b2",
   "metadata": {},
   "outputs": [],
   "source": [
    "dataset_inst = NLPDataset(file_paths, enc)\n",
    "dataset = dataset_inst.get_data()"
   ]
  },
  {
   "cell_type": "code",
   "execution_count": 14,
   "id": "a1e7d42c",
   "metadata": {},
   "outputs": [
    {
     "name": "stdout",
     "output_type": "stream",
     "text": [
      "Total tokens: torch.Size([22667909])\n",
      "Number of unique tokens: 45163\n"
     ]
    }
   ],
   "source": [
    "print(f\"Total tokens: {dataset.shape}\")\n",
    "print(f\"Number of unique tokens: {len(np.unique(dataset))}\")\n",
    "# print(f\"Number of chosen words to act as vocabulary (tokens): {len(int_mapping)}\")"
   ]
  },
  {
   "cell_type": "code",
   "execution_count": 15,
   "id": "9def8720",
   "metadata": {},
   "outputs": [
    {
     "name": "stdout",
     "output_type": "stream",
     "text": [
      "Number of training samples: 18134328\n",
      "Number of validation samples: 4533581\n"
     ]
    }
   ],
   "source": [
    "dataset_size = len(dataset)\n",
    "# Calculate the validation dataset size.\n",
    "valid_size = int(VALID_SPLIT*dataset_size)\n",
    "# Radomize the data indices.\n",
    "indices = torch.randperm(len(dataset)).tolist()\n",
    "# Training and validation sets.\n",
    "dataset_train = dataset[:-valid_size]\n",
    "dataset_valid = dataset[-valid_size:]\n",
    "\n",
    "# dataset_valid = NLPClassificationDataset()\n",
    "print(f\"Number of training samples: {len(dataset_train)}\")\n",
    "print(f\"Number of validation samples: {len(dataset_valid)}\")"
   ]
  },
  {
   "cell_type": "code",
   "execution_count": 16,
   "id": "c0361eaf",
   "metadata": {},
   "outputs": [
    {
     "name": "stdout",
     "output_type": "stream",
     "text": [
      "18134328\n",
      "4533581\n"
     ]
    }
   ],
   "source": [
    "print(dataset_train.size(0))\n",
    "print(dataset_valid.size(0))"
   ]
  },
  {
   "cell_type": "code",
   "execution_count": 17,
   "id": "afa95d88",
   "metadata": {},
   "outputs": [
    {
     "name": "stdout",
     "output_type": "stream",
     "text": [
      "cuda\n"
     ]
    }
   ],
   "source": [
    "device = torch.device('cuda' if torch.cuda.is_available() else 'cpu')\n",
    "print(device)"
   ]
  },
  {
   "cell_type": "code",
   "execution_count": 18,
   "id": "73b63f26-5cc9-4d6e-aa11-e0338ceee25f",
   "metadata": {},
   "outputs": [
    {
     "name": "stdout",
     "output_type": "stream",
     "text": [
      "[[ 1002   345   765   284  7030   617   640   379   513   287   262  3329\n",
      "  14590  8805   306 10785    11   307   616  8319    13 15323    11  1487\n",
      "    262  6518    13   198   198   464  2646   318   546   734  9397   508\n",
      "   2626  2800   351  1123   584  1141   511 16330   812    13   383  7099\n",
      "   3956  8518    11  2107   257 24097   475  2138  8788  1204    11   339\n",
      "   8181   503   351   465  2460    11  1804 14397  1243    13  1629  8518\n",
      "   1248   400 10955   465   890  2626  3956  2058  1363   986   314  2666\n",
      "    262  1334   329   345   284  1064   503 29847  1671  1220  6927  1671\n",
      "  11037    40   892   340   338   257  1611   286 24097  3807    11   340\n",
      "   1107  1595   470  1560   257  1621    13  1892   257   922  1621  6949\n",
      "     13   921   460  2048  3785   503  2407  3049   703  1243   389    13\n",
      "    383  7205   287   262  3807   373  7709    11  8518 17326   262   976\n",
      "   5408   319   465  1986  1141  7388     4   286   262  2646 29847  1671\n",
      "   1220  6927  1671 11037  3666  5608   284   345    11  2342   340   611\n",
      "    345   821  1107 17533    13   198   198  1212  3807   468   645 26509\n",
      "    278 14482   357   482   323   257  3155   286 47602  7040   475   345\n",
      "   1183   307 17533  1972   284   606   737 22183   257  2423   286   340\n",
      "   2331   284   307   257  7030   286   640   475   314  1053  1541 18359\n",
      "   4101  2431   286   616  1204  4964   340   523   611   314   460  2245\n",
      "    584   661   422  1804   262   976   788   340   373  2861   340    13\n",
      "  11382   329   257  5664   644  1838  2089  9961  6918   523  2089   290\n",
      "    345   423  5265   286]\n",
      " [  465  5544  2646    11   262   845 20050   705 48708   290 16038  3256\n",
      "   6960  4518 18301 27188   656   281  7205  3451   416  2712   281  4036\n",
      "   2597  2644   257  4876   925  4577   780   339   338  2712  2241   287\n",
      "    257 19812  1621   326  3607   683   257  2863   284  6763   261   257\n",
      "   1178  3146 29847  1671  1220  6927  1671 11037 46200 26066   338 10384\n",
      "    318  2407  8258    13 38872 10805 23180   257 10643   379   262  3420\n",
      "     11   290  7893   508   338   612    13  3574  2354    11   257 17073\n",
      "   4233    12  1122   276  3809  7429   705 17439 10884 26066  4458 10889\n",
      "   1576   986    27  1671  1220  6927  1671 11037   464  4756 10824   286\n",
      "    705 48708   290 16038     6   743 27531   617 10209    11   355   262\n",
      "   3891   286  3496 34422 19947   290 11345   389 31015  9066    13   554\n",
      "   1109    11   484   691  8639   530  3496   284   428 10530    25   705\n",
      "   7279    70   436  4420  3998  3256   543   428  3350  6687   284 12153\n",
      "    572   355   257  3297   286 18951   284   281  5000  1180  3496    11\n",
      "    705    40  1101   257  1024  4360 12427  4458 25044    11   326 19947\n",
      "   1222 11345  3496  1377   530   286   511 34968  1377   318  3737   262\n",
      "   1551 20050  3496   287   428  3807   338  4776    26  1811  1854   389\n",
      "  29696   510    12 11498  7501  3146    11 14660   705  1026   338   257\n",
      "   4042 28511  6708   958  3256   705  2215   632 34606   284  5896    11\n",
      "    921   821  1550  3406 11744     6   290   705    40 19882   921  3274\n",
      "   4458    27  1671  1220  6927  1671 11037 46200 26066   338   922   287\n",
      "    428  3807    11   475]]\n",
      "[[  345   765   284  7030   617   640   379   513   287   262  3329 14590\n",
      "   8805   306 10785    11   307   616  8319    13 15323    11  1487   262\n",
      "   6518    13   198   198   464  2646   318   546   734  9397   508  2626\n",
      "   2800   351  1123   584  1141   511 16330   812    13   383  7099  3956\n",
      "   8518    11  2107   257 24097   475  2138  8788  1204    11   339  8181\n",
      "    503   351   465  2460    11  1804 14397  1243    13  1629  8518  1248\n",
      "    400 10955   465   890  2626  3956  2058  1363   986   314  2666   262\n",
      "   1334   329   345   284  1064   503 29847  1671  1220  6927  1671 11037\n",
      "     40   892   340   338   257  1611   286 24097  3807    11   340  1107\n",
      "   1595   470  1560   257  1621    13  1892   257   922  1621  6949    13\n",
      "    921   460  2048  3785   503  2407  3049   703  1243   389    13   383\n",
      "   7205   287   262  3807   373  7709    11  8518 17326   262   976  5408\n",
      "    319   465  1986  1141  7388     4   286   262  2646 29847  1671  1220\n",
      "   6927  1671 11037  3666  5608   284   345    11  2342   340   611   345\n",
      "    821  1107 17533    13   198   198  1212  3807   468   645 26509   278\n",
      "  14482   357   482   323   257  3155   286 47602  7040   475   345  1183\n",
      "    307 17533  1972   284   606   737 22183   257  2423   286   340  2331\n",
      "    284   307   257  7030   286   640   475   314  1053  1541 18359  4101\n",
      "   2431   286   616  1204  4964   340   523   611   314   460  2245   584\n",
      "    661   422  1804   262   976   788   340   373  2861   340    13 11382\n",
      "    329   257  5664   644  1838  2089  9961  6918   523  2089   290   345\n",
      "    423  5265   286   262]\n",
      " [ 5544  2646    11   262   845 20050   705 48708   290 16038  3256  6960\n",
      "   4518 18301 27188   656   281  7205  3451   416  2712   281  4036  2597\n",
      "   2644   257  4876   925  4577   780   339   338  2712  2241   287   257\n",
      "  19812  1621   326  3607   683   257  2863   284  6763   261   257  1178\n",
      "   3146 29847  1671  1220  6927  1671 11037 46200 26066   338 10384   318\n",
      "   2407  8258    13 38872 10805 23180   257 10643   379   262  3420    11\n",
      "    290  7893   508   338   612    13  3574  2354    11   257 17073  4233\n",
      "     12  1122   276  3809  7429   705 17439 10884 26066  4458 10889  1576\n",
      "    986    27  1671  1220  6927  1671 11037   464  4756 10824   286   705\n",
      "  48708   290 16038     6   743 27531   617 10209    11   355   262  3891\n",
      "    286  3496 34422 19947   290 11345   389 31015  9066    13   554  1109\n",
      "     11   484   691  8639   530  3496   284   428 10530    25   705  7279\n",
      "     70   436  4420  3998  3256   543   428  3350  6687   284 12153   572\n",
      "    355   257  3297   286 18951   284   281  5000  1180  3496    11   705\n",
      "     40  1101   257  1024  4360 12427  4458 25044    11   326 19947  1222\n",
      "  11345  3496  1377   530   286   511 34968  1377   318  3737   262  1551\n",
      "  20050  3496   287   428  3807   338  4776    26  1811  1854   389 29696\n",
      "    510    12 11498  7501  3146    11 14660   705  1026   338   257  4042\n",
      "  28511  6708   958  3256   705  2215   632 34606   284  5896    11   921\n",
      "    821  1550  3406 11744     6   290   705    40 19882   921  3274  4458\n",
      "     27  1671  1220  6927  1671 11037 46200 26066   338   922   287   428\n",
      "   3807    11   475   339]]\n",
      "[\" If you want to waste some time at 3 in the morning whilst madly drunk, be my guest. Otherwise, change the channel.\\n\\nThe film is about two brothers who lost contact with each other during their teenage years. The younger brother Josh, live a messy but rather okay life, he hang out with his friends, doing silly things. At Josh 18th birthday his long lost brother comes home... I leave the rest for you to find out.<br /><br />I think it's a kind of messy movie, it really doesn't tell a story. Not a good story anyway. You can almost figure out quite fast how things are. The acting in the movie was decent, Josh wears the same expression on his face during 99% of the film.<br /><br />My advice to you, watch it if you're really bored.\\n\\nThis movie has no redeeming qualities (okay a couple of inventive deaths but you'll be bored getting to them). Writing a review of it seems to be a waste of time but I've already wasted 90 minutes of my life watching it so if I can stop other people from doing the same then it was worth it. Think for a minute what makes bad horror movies so bad and you have Night of\", \" his fourth film, the very enjoyable 'Higher and Higher', Young Blue Eyes transitions into an acting career by playing an actual role ... a task made easier because he's playing himself in a fictional story that gives him a chance to croon a few numbers.<br /><br />Sinatra's entrance is quite funny. Michele Morgan hears a knock at the door, and asks who's there. From outside, a Hoboken-toned voice answers 'Frank Sinatra'. Sure enough...<br /><br />The opening credits of 'Higher and Higher' may confuse some viewers, as the names of songwriters Rodgers and Hart are prominently displayed. In fact, they only contributed one song to this musical: 'Disgustingly Rich', which this cast manage to toss off as a sort of intro to an entirely different song, 'I'm a Debutante'. Interestingly, that Rodgers & Hart song -- one of their weakest -- is perhaps the least enjoyable song in this movie's score; several others are lively up-tempo numbers, notably 'It's a Most Important Affair', 'When It Comes to Love, You're On Your Own' and 'I Saw You First'.<br /><br />Sinatra's good in this movie, but\"]\n",
      "[\" you want to waste some time at 3 in the morning whilst madly drunk, be my guest. Otherwise, change the channel.\\n\\nThe film is about two brothers who lost contact with each other during their teenage years. The younger brother Josh, live a messy but rather okay life, he hang out with his friends, doing silly things. At Josh 18th birthday his long lost brother comes home... I leave the rest for you to find out.<br /><br />I think it's a kind of messy movie, it really doesn't tell a story. Not a good story anyway. You can almost figure out quite fast how things are. The acting in the movie was decent, Josh wears the same expression on his face during 99% of the film.<br /><br />My advice to you, watch it if you're really bored.\\n\\nThis movie has no redeeming qualities (okay a couple of inventive deaths but you'll be bored getting to them). Writing a review of it seems to be a waste of time but I've already wasted 90 minutes of my life watching it so if I can stop other people from doing the same then it was worth it. Think for a minute what makes bad horror movies so bad and you have Night of the\", \" fourth film, the very enjoyable 'Higher and Higher', Young Blue Eyes transitions into an acting career by playing an actual role ... a task made easier because he's playing himself in a fictional story that gives him a chance to croon a few numbers.<br /><br />Sinatra's entrance is quite funny. Michele Morgan hears a knock at the door, and asks who's there. From outside, a Hoboken-toned voice answers 'Frank Sinatra'. Sure enough...<br /><br />The opening credits of 'Higher and Higher' may confuse some viewers, as the names of songwriters Rodgers and Hart are prominently displayed. In fact, they only contributed one song to this musical: 'Disgustingly Rich', which this cast manage to toss off as a sort of intro to an entirely different song, 'I'm a Debutante'. Interestingly, that Rodgers & Hart song -- one of their weakest -- is perhaps the least enjoyable song in this movie's score; several others are lively up-tempo numbers, notably 'It's a Most Important Affair', 'When It Comes to Love, You're On Your Own' and 'I Saw You First'.<br /><br />Sinatra's good in this movie, but he\"]\n"
     ]
    }
   ],
   "source": [
    "inp, tgt = get_batch(dataset_train, sequence_length=SEQUENCE_LENGTH, batch_size=2)\n",
    "print(inp.numpy())\n",
    "print(tgt.numpy())\n",
    "print(enc.decode_batch(inp.numpy()))\n",
    "print(enc.decode_batch(tgt.numpy()))"
   ]
  },
  {
   "cell_type": "markdown",
   "id": "66743536",
   "metadata": {},
   "source": [
    "## Model"
   ]
  },
  {
   "cell_type": "code",
   "execution_count": 19,
   "id": "04375bd5-1840-4ff4-bdf2-e985719ca7aa",
   "metadata": {},
   "outputs": [],
   "source": [
    "def generate_square_subsequent_mask(sz):\n",
    "    \"\"\"\n",
    "    Generate a square mask for the sequence. The masked positions are filled with float('-inf').\n",
    "    Unmasked positions are filled with float(0.0).\n",
    "    \"\"\"\n",
    "    mask = (torch.triu(torch.ones(sz, sz)) == 1).transpose(0, 1)\n",
    "    mask = mask.float().masked_fill(mask == 0, float('-inf')).masked_fill(mask == 1, float(0.0))\n",
    "    return mask"
   ]
  },
  {
   "cell_type": "code",
   "execution_count": 20,
   "id": "b14eff4c-b3a8-4604-a4e3-1499af7dc95e",
   "metadata": {},
   "outputs": [],
   "source": [
    "class PositionalEncoding(nn.Module):\n",
    "    def __init__(self, max_len, d_model, dropout=0.1):\n",
    "        \"\"\"\n",
    "        :param max_len: Input length sequence.\n",
    "        :param d_model: Embedding dimension.\n",
    "        :param dropout: Dropout value (default=0.1)\n",
    "        \"\"\"\n",
    "        super(PositionalEncoding, self).__init__()\n",
    "        self.dropout = nn.Dropout(p=dropout)\n",
    "\n",
    "        pe = torch.zeros(max_len, d_model)\n",
    "        position = torch.arange(0, max_len, dtype=torch.float).unsqueeze(1)\n",
    "        div_term = torch.exp(torch.arange(0, d_model, 2).float() * (-math.log(10000.0) / d_model))\n",
    "        pe[:, 0::2] = torch.sin(position * div_term)\n",
    "        pe[:, 1::2] = torch.cos(position * div_term)\n",
    "        pe = pe.unsqueeze(0)\n",
    "        self.register_buffer('pe', pe)\n",
    "\n",
    "    def forward(self, x):\n",
    "        \"\"\"\n",
    "        Inputs of forward function\n",
    "        :param x: the sequence fed to the positional encoder model (required).\n",
    "        Shape:\n",
    "            x: [sequence length, batch size, embed dim]\n",
    "            output: [sequence length, batch size, embed dim]\n",
    "        \"\"\"\n",
    "\n",
    "        x = x + self.pe[:, :x.size(1)]\n",
    "        return self.dropout(x)"
   ]
  },
  {
   "cell_type": "code",
   "execution_count": 21,
   "id": "513af03c",
   "metadata": {},
   "outputs": [],
   "source": [
    "class TextGen(nn.Module):\n",
    "    def __init__(self, vocab_size, embed_dim, num_layers, num_heads):\n",
    "        super(TextGen, self).__init__()\n",
    "        self.pos_encoder = PositionalEncoding(max_len=SEQUENCE_LENGTH, d_model=embed_dim)\n",
    "        self.emb = nn.Embedding(vocab_size, embed_dim)\n",
    "        self.decoder_layer = nn.TransformerDecoderLayer(\n",
    "            d_model=embed_dim, \n",
    "            nhead=num_heads, \n",
    "            batch_first=True\n",
    "        )\n",
    "        self.decoder = nn.TransformerDecoder(\n",
    "            decoder_layer=self.decoder_layer,\n",
    "            num_layers=num_layers,\n",
    "        )\n",
    "        self.linear = nn.Linear(embed_dim, vocab_size)\n",
    "        self.dropout = nn.Dropout(0.2)\n",
    "        \n",
    "    # Positional encoding is required. Else the model does not learn.\n",
    "    def forward(self, x):\n",
    "        emb = self.emb(x)\n",
    "        \n",
    "        # Generate input sequence mask with shape (SEQUENCE_LENGTH, SEQUENCE_LENGTH)\n",
    "        input_mask = generate_square_subsequent_mask(x.size(1)).to(x.device)\n",
    "        \n",
    "        x = self.pos_encoder(emb)\n",
    "        x = self.decoder(x, memory=x, tgt_mask=input_mask, memory_mask=input_mask)\n",
    "        x = self.dropout(x)\n",
    "        out = self.linear(x)\n",
    "        return out"
   ]
  },
  {
   "cell_type": "code",
   "execution_count": 22,
   "id": "7a6f1862-5725-4ac4-b801-7775f9b16911",
   "metadata": {},
   "outputs": [],
   "source": [
    "model = TextGen(\n",
    "    vocab_size=NUM_WORDS, \n",
    "    embed_dim=100,\n",
    "    num_layers=2, \n",
    "    num_heads=2,\n",
    ")"
   ]
  },
  {
   "cell_type": "code",
   "execution_count": 23,
   "id": "5621ac84",
   "metadata": {},
   "outputs": [],
   "source": [
    "_ = model.to(device)"
   ]
  },
  {
   "cell_type": "markdown",
   "id": "5508f234",
   "metadata": {},
   "source": [
    "## Training"
   ]
  },
  {
   "cell_type": "code",
   "execution_count": 24,
   "id": "b96fd55e",
   "metadata": {},
   "outputs": [
    {
     "name": "stdout",
     "output_type": "stream",
     "text": [
      "TextGen(\n",
      "  (pos_encoder): PositionalEncoding(\n",
      "    (dropout): Dropout(p=0.1, inplace=False)\n",
      "  )\n",
      "  (emb): Embedding(50257, 100)\n",
      "  (decoder_layer): TransformerDecoderLayer(\n",
      "    (self_attn): MultiheadAttention(\n",
      "      (out_proj): NonDynamicallyQuantizableLinear(in_features=100, out_features=100, bias=True)\n",
      "    )\n",
      "    (multihead_attn): MultiheadAttention(\n",
      "      (out_proj): NonDynamicallyQuantizableLinear(in_features=100, out_features=100, bias=True)\n",
      "    )\n",
      "    (linear1): Linear(in_features=100, out_features=2048, bias=True)\n",
      "    (dropout): Dropout(p=0.1, inplace=False)\n",
      "    (linear2): Linear(in_features=2048, out_features=100, bias=True)\n",
      "    (norm1): LayerNorm((100,), eps=1e-05, elementwise_affine=True)\n",
      "    (norm2): LayerNorm((100,), eps=1e-05, elementwise_affine=True)\n",
      "    (norm3): LayerNorm((100,), eps=1e-05, elementwise_affine=True)\n",
      "    (dropout1): Dropout(p=0.1, inplace=False)\n",
      "    (dropout2): Dropout(p=0.1, inplace=False)\n",
      "    (dropout3): Dropout(p=0.1, inplace=False)\n",
      "  )\n",
      "  (decoder): TransformerDecoder(\n",
      "    (layers): ModuleList(\n",
      "      (0-1): 2 x TransformerDecoderLayer(\n",
      "        (self_attn): MultiheadAttention(\n",
      "          (out_proj): NonDynamicallyQuantizableLinear(in_features=100, out_features=100, bias=True)\n",
      "        )\n",
      "        (multihead_attn): MultiheadAttention(\n",
      "          (out_proj): NonDynamicallyQuantizableLinear(in_features=100, out_features=100, bias=True)\n",
      "        )\n",
      "        (linear1): Linear(in_features=100, out_features=2048, bias=True)\n",
      "        (dropout): Dropout(p=0.1, inplace=False)\n",
      "        (linear2): Linear(in_features=2048, out_features=100, bias=True)\n",
      "        (norm1): LayerNorm((100,), eps=1e-05, elementwise_affine=True)\n",
      "        (norm2): LayerNorm((100,), eps=1e-05, elementwise_affine=True)\n",
      "        (norm3): LayerNorm((100,), eps=1e-05, elementwise_affine=True)\n",
      "        (dropout1): Dropout(p=0.1, inplace=False)\n",
      "        (dropout2): Dropout(p=0.1, inplace=False)\n",
      "        (dropout3): Dropout(p=0.1, inplace=False)\n",
      "      )\n",
      "    )\n",
      "  )\n",
      "  (linear): Linear(in_features=100, out_features=50257, bias=True)\n",
      "  (dropout): Dropout(p=0.2, inplace=False)\n",
      ")\n",
      "Adjusting learning rate of group 0 to 1.0000e-04.\n",
      "11,581,101 total parameters.\n",
      "11,581,101 training parameters.\n",
      "\n"
     ]
    }
   ],
   "source": [
    "print(model)\n",
    "criterion = nn.CrossEntropyLoss()\n",
    "optimizer = optim.AdamW(\n",
    "    model.parameters(), \n",
    "    lr=0.0001,\n",
    ")\n",
    "\n",
    "# StepLR every specific number of epochs.\n",
    "scheduler = StepLR(\n",
    "    optimizer, \n",
    "    step_size=5, \n",
    "    gamma=0.5,\n",
    "    verbose=True\n",
    ")\n",
    "\n",
    "# Total parameters and trainable parameters.\n",
    "total_params = sum(p.numel() for p in model.parameters())\n",
    "print(f\"{total_params:,} total parameters.\")\n",
    "total_trainable_params = sum(\n",
    "    p.numel() for p in model.parameters() if p.requires_grad)\n",
    "print(f\"{total_trainable_params:,} training parameters.\\n\")"
   ]
  },
  {
   "cell_type": "code",
   "execution_count": 25,
   "id": "999052b3",
   "metadata": {
    "scrolled": true,
    "tags": []
   },
   "outputs": [
    {
     "name": "stdout",
     "output_type": "stream",
     "text": [
      "[INFO]: Iteration 1 of 10000\n",
      "Training loss: 11.053398132324219\n",
      "Validation loss: 10.984334945678711\n",
      "--------------------------------------------------\n",
      "[INFO]: Iteration 251 of 10000\n",
      "Training loss: 7.883288383483887\n",
      "Validation loss: 7.771780967712402\n",
      "--------------------------------------------------\n",
      "[INFO]: Iteration 501 of 10000\n",
      "Training loss: 7.140125274658203\n",
      "Validation loss: 7.064413547515869\n",
      "--------------------------------------------------\n",
      "[INFO]: Iteration 751 of 10000\n",
      "Training loss: 6.800408363342285\n",
      "Validation loss: 6.850506782531738\n",
      "--------------------------------------------------\n",
      "[INFO]: Iteration 1001 of 10000\n",
      "Training loss: 6.71712064743042\n",
      "Validation loss: 6.527120113372803\n",
      "--------------------------------------------------\n",
      "[INFO]: Iteration 1251 of 10000\n",
      "Training loss: 6.76706600189209\n",
      "Validation loss: 6.62874698638916\n",
      "--------------------------------------------------\n",
      "[INFO]: Iteration 1501 of 10000\n",
      "Training loss: 6.389617443084717\n",
      "Validation loss: 6.449618339538574\n",
      "--------------------------------------------------\n",
      "[INFO]: Iteration 1751 of 10000\n",
      "Training loss: 6.42337703704834\n",
      "Validation loss: 6.242702960968018\n",
      "--------------------------------------------------\n",
      "[INFO]: Iteration 2001 of 10000\n",
      "Training loss: 6.3501973152160645\n",
      "Validation loss: 6.178939342498779\n",
      "--------------------------------------------------\n",
      "[INFO]: Iteration 2251 of 10000\n",
      "Training loss: 6.402482509613037\n",
      "Validation loss: 6.022160053253174\n",
      "--------------------------------------------------\n",
      "[INFO]: Iteration 2501 of 10000\n",
      "Training loss: 6.348823070526123\n",
      "Validation loss: 6.245975494384766\n",
      "--------------------------------------------------\n",
      "[INFO]: Iteration 2751 of 10000\n",
      "Training loss: 6.3303141593933105\n",
      "Validation loss: 6.111361503601074\n",
      "--------------------------------------------------\n",
      "[INFO]: Iteration 3001 of 10000\n",
      "Training loss: 6.313826560974121\n",
      "Validation loss: 5.905548572540283\n",
      "--------------------------------------------------\n",
      "[INFO]: Iteration 3251 of 10000\n",
      "Training loss: 6.240795135498047\n",
      "Validation loss: 6.155792236328125\n",
      "--------------------------------------------------\n",
      "[INFO]: Iteration 3501 of 10000\n",
      "Training loss: 6.200626373291016\n",
      "Validation loss: 6.05968713760376\n",
      "--------------------------------------------------\n",
      "[INFO]: Iteration 3751 of 10000\n",
      "Training loss: 5.869975566864014\n",
      "Validation loss: 6.037304878234863\n",
      "--------------------------------------------------\n",
      "[INFO]: Iteration 4001 of 10000\n",
      "Training loss: 5.966235637664795\n",
      "Validation loss: 5.926663398742676\n",
      "--------------------------------------------------\n",
      "[INFO]: Iteration 4251 of 10000\n",
      "Training loss: 6.0254807472229\n",
      "Validation loss: 6.0359039306640625\n",
      "--------------------------------------------------\n",
      "[INFO]: Iteration 4501 of 10000\n",
      "Training loss: 6.172067165374756\n",
      "Validation loss: 6.017551422119141\n",
      "--------------------------------------------------\n",
      "[INFO]: Iteration 4751 of 10000\n",
      "Training loss: 6.057891845703125\n",
      "Validation loss: 5.872123718261719\n",
      "--------------------------------------------------\n",
      "[INFO]: Iteration 5001 of 10000\n",
      "Training loss: 6.067914009094238\n",
      "Validation loss: 5.910713195800781\n",
      "--------------------------------------------------\n",
      "[INFO]: Iteration 5251 of 10000\n",
      "Training loss: 6.018417835235596\n",
      "Validation loss: 5.84248161315918\n",
      "--------------------------------------------------\n",
      "[INFO]: Iteration 5501 of 10000\n",
      "Training loss: 5.9146857261657715\n",
      "Validation loss: 5.9060587882995605\n",
      "--------------------------------------------------\n",
      "[INFO]: Iteration 5751 of 10000\n",
      "Training loss: 5.590925216674805\n",
      "Validation loss: 5.702295303344727\n",
      "--------------------------------------------------\n",
      "[INFO]: Iteration 6001 of 10000\n",
      "Training loss: 5.895153522491455\n",
      "Validation loss: 5.979298114776611\n",
      "--------------------------------------------------\n",
      "[INFO]: Iteration 6251 of 10000\n",
      "Training loss: 5.918258190155029\n",
      "Validation loss: 5.614470958709717\n",
      "--------------------------------------------------\n",
      "[INFO]: Iteration 6501 of 10000\n",
      "Training loss: 5.83342981338501\n",
      "Validation loss: 5.898921966552734\n",
      "--------------------------------------------------\n",
      "[INFO]: Iteration 6751 of 10000\n",
      "Training loss: 5.787143230438232\n",
      "Validation loss: 5.773728847503662\n",
      "--------------------------------------------------\n",
      "[INFO]: Iteration 7001 of 10000\n",
      "Training loss: 5.83760404586792\n",
      "Validation loss: 5.747820854187012\n",
      "--------------------------------------------------\n",
      "[INFO]: Iteration 7251 of 10000\n",
      "Training loss: 5.914229869842529\n",
      "Validation loss: 5.820748329162598\n",
      "--------------------------------------------------\n",
      "[INFO]: Iteration 7501 of 10000\n",
      "Training loss: 6.1450276374816895\n",
      "Validation loss: 5.845035076141357\n",
      "--------------------------------------------------\n",
      "[INFO]: Iteration 7751 of 10000\n",
      "Training loss: 5.9228434562683105\n",
      "Validation loss: 5.854096412658691\n",
      "--------------------------------------------------\n",
      "[INFO]: Iteration 8001 of 10000\n",
      "Training loss: 6.086489677429199\n",
      "Validation loss: 5.675985813140869\n",
      "--------------------------------------------------\n",
      "[INFO]: Iteration 8251 of 10000\n",
      "Training loss: 5.694373607635498\n",
      "Validation loss: 5.602166652679443\n",
      "--------------------------------------------------\n",
      "[INFO]: Iteration 8501 of 10000\n",
      "Training loss: 5.6955766677856445\n",
      "Validation loss: 5.656678676605225\n",
      "--------------------------------------------------\n",
      "[INFO]: Iteration 8751 of 10000\n",
      "Training loss: 5.618255615234375\n",
      "Validation loss: 5.454339027404785\n",
      "--------------------------------------------------\n",
      "[INFO]: Iteration 9001 of 10000\n",
      "Training loss: 5.910386562347412\n",
      "Validation loss: 5.5394134521484375\n",
      "--------------------------------------------------\n",
      "[INFO]: Iteration 9251 of 10000\n",
      "Training loss: 5.826171398162842\n",
      "Validation loss: 5.658086776733398\n",
      "--------------------------------------------------\n",
      "[INFO]: Iteration 9501 of 10000\n",
      "Training loss: 5.729151248931885\n",
      "Validation loss: 5.567471981048584\n",
      "--------------------------------------------------\n",
      "[INFO]: Iteration 9751 of 10000\n",
      "Training loss: 5.9713029861450195\n",
      "Validation loss: 5.549591064453125\n",
      "--------------------------------------------------\n"
     ]
    }
   ],
   "source": [
    "# Lists to keep track of losses and accuracies.\n",
    "train_loss, valid_loss = [], []\n",
    "# Start the training.\n",
    "for iteration in range(MAX_ITERS):\n",
    "    train_step_loss = train_step(\n",
    "        model, \n",
    "        dataset_train, \n",
    "        optimizer, \n",
    "        criterion,\n",
    "        SEQUENCE_LENGTH,\n",
    "        NUM_WORDS,\n",
    "        BATCH_SIZE,\n",
    "        device\n",
    "    )\n",
    "    valid_step_loss = val_step(\n",
    "        model, \n",
    "        dataset_valid,  \n",
    "        criterion,\n",
    "        SEQUENCE_LENGTH,\n",
    "        NUM_WORDS,\n",
    "        BATCH_SIZE,\n",
    "        device\n",
    "    )\n",
    "    train_loss.append(train_step_loss.cpu().detach().numpy())\n",
    "    valid_loss.append(valid_step_loss.cpu().detach().numpy())\n",
    "    if iteration % 250 == 0:\n",
    "        print(f\"[INFO]: Iteration {iteration+1} of {MAX_ITERS}\")\n",
    "        print(f\"Training loss: {train_step_loss}\")\n",
    "        print(f\"Validation loss: {valid_step_loss}\")\n",
    "        print('-'*50)\n",
    "    #     if epoch + 1 <= 32:\n",
    "#         scheduler.step()\n",
    "# Save model.\n",
    "torch.save(\n",
    "    model, os.path.join(CHECKPOINT_DIR, 'model.pth')\n",
    ")"
   ]
  },
  {
   "cell_type": "code",
   "execution_count": 26,
   "id": "3d589742-d6e2-4af3-881f-3584fd588ada",
   "metadata": {},
   "outputs": [],
   "source": [
    "# Save model.\n",
    "torch.save(\n",
    "    model, os.path.join(CHECKPOINT_DIR, 'model.pth')\n",
    ")"
   ]
  },
  {
   "cell_type": "code",
   "execution_count": 27,
   "id": "56e504f9",
   "metadata": {},
   "outputs": [],
   "source": [
    "def save_plots(train_loss, valid_loss):\n",
    "    \"\"\"\n",
    "    Function to save the loss and accuracy plots to disk.\n",
    "    \"\"\"\n",
    "    plt.show()\n",
    "    # Loss plots.\n",
    "    plt.figure(figsize=(10, 7))\n",
    "    plt.plot(\n",
    "        train_loss, color='blue', linestyle='-', \n",
    "        label='train loss'\n",
    "    )\n",
    "    plt.plot(\n",
    "        valid_loss, color='red', linestyle='-', \n",
    "        label='validataion loss'\n",
    "    )\n",
    "    plt.xlabel('Epochs')\n",
    "    plt.ylabel('Loss')\n",
    "    plt.legend()\n",
    "#     plt.savefig(f\"../outputs/loss.png\")\n",
    "    plt.show()"
   ]
  },
  {
   "cell_type": "code",
   "execution_count": 28,
   "id": "e5e4eced",
   "metadata": {},
   "outputs": [
    {
     "data": {
      "image/png": "[encoded data removed]",
      "text/plain": [
       "<Figure size 1000x700 with 1 Axes>"
      ]
     },
     "metadata": {},
     "output_type": "display_data"
    }
   ],
   "source": [
    "save_plots(train_loss, valid_loss)"
   ]
  },
  {
   "cell_type": "markdown",
   "id": "6ee6468b",
   "metadata": {},
   "source": [
    "## Test Model"
   ]
  },
  {
   "cell_type": "code",
   "execution_count": 29,
   "id": "8c3810a2",
   "metadata": {},
   "outputs": [],
   "source": [
    "trained_model = torch.load(\n",
    "    os.path.join(CHECKPOINT_DIR, 'model.pth')\n",
    ")"
   ]
  },
  {
   "cell_type": "code",
   "execution_count": 30,
   "id": "01bc10b1",
   "metadata": {},
   "outputs": [],
   "source": [
    "# test_loss = validate(\n",
    "#     trained_model, \n",
    "#     dataset_test,  \n",
    "#     criterion, \n",
    "#     device\n",
    "# )\n",
    "\n",
    "# print(f\"Test loss: {test_loss}\")"
   ]
  },
  {
   "cell_type": "markdown",
   "id": "e86e1a2f",
   "metadata": {},
   "source": [
    "## Text Generation"
   ]
  },
  {
   "cell_type": "code",
   "execution_count": 31,
   "id": "f269eb64",
   "metadata": {},
   "outputs": [],
   "source": [
    "def return_int_vector(enc, text):\n",
    "        \"\"\"\n",
    "        Assign an integer to each word and return the integers in a list.\n",
    "        \"\"\"\n",
    "        return enc.encode(text)"
   ]
  },
  {
   "cell_type": "code",
   "execution_count": 32,
   "id": "9f9e7817",
   "metadata": {},
   "outputs": [],
   "source": [
    "enc = tiktoken.encoding_for_model(\"gpt2\")"
   ]
  },
  {
   "cell_type": "code",
   "execution_count": 33,
   "id": "c11d2a10",
   "metadata": {},
   "outputs": [],
   "source": [
    "def sample_next(predictions, temperature=1.0):\n",
    "    \"\"\"\n",
    "    Implement variable-temperature sampling from a probability\n",
    "    distribution.\n",
    "    \"\"\"\n",
    "    # print(predictions.shape)\n",
    "    predictions = predictions[:, -1, :] / temperature\n",
    "    # print(predictions.shape)\n",
    "    # print(torch.where(predictions > 0))\n",
    "    probabilities = F.softmax(predictions, dim=-1).cpu()\n",
    "    # print(probabilities.shape)\n",
    "    next_token = torch.multinomial(probabilities, num_samples=1)\n",
    "    # print(next_token)\n",
    "    return int(next_token.cpu())\n",
    "\n",
    "def text_generator(sentence, generate_length):\n",
    "    trained_model.eval()\n",
    "    temperatures = [0.1, 0.2, 0.3, 0.4, 0.5, 0.6, 0.7, 0.8, 0.9, 1.0, 1.1, 1.2, 1.3, 1.4, 1.5, 1.6, 1.7, 1.8, 1.9, 2.0] \n",
    "    for temperature in temperatures:\n",
    "        sample = sentence\n",
    "        print(f\"GENERATED SENTENCE WITH TEMPERATURE {temperature}\")\n",
    "        for i in range(generate_length):\n",
    "            # print(f\"Sample: {sample}\")\n",
    "            int_vector = return_int_vector(enc, sample)\n",
    "            if len(int_vector) >= SEQUENCE_LENGTH - 1:\n",
    "                break\n",
    "            input_tensor = torch.tensor(int_vector, dtype=torch.long).to(device)  # Changed dtype to torch.long\n",
    "            input_tensor = input_tensor.unsqueeze(0)\n",
    "            with torch.no_grad():\n",
    "                predictions = trained_model(input_tensor)\n",
    "            next_token = sample_next(predictions, temperature)  # Pass the temperature to the sample function\n",
    "            sample += enc.decode([next_token])\n",
    "        print(sample)\n",
    "        print('\\n')"
   ]
  },
  {
   "cell_type": "code",
   "execution_count": 34,
   "id": "9d418dfb",
   "metadata": {},
   "outputs": [],
   "source": [
    "sentences = [\n",
    "    \"Actor turned director Bill Paxton follows up his promising debut\"\n",
    "]"
   ]
  },
  {
   "cell_type": "code",
   "execution_count": 35,
   "id": "2afbe177",
   "metadata": {},
   "outputs": [],
   "source": [
    "generate_length = 100"
   ]
  },
  {
   "cell_type": "code",
   "execution_count": 36,
   "id": "9822d8b4",
   "metadata": {},
   "outputs": [
    {
     "name": "stdout",
     "output_type": "stream",
     "text": [
      "PROMPT: Actor turned director Bill Paxton follows up his promising debut\n",
      "GENERATED SENTENCE WITH TEMPERATURE 0.1\n",
      "Actor turned director Bill Paxton follows up his promising debut. The film is a good, and the film is a good movie. The film is a good. The film is a good, and the film is a good. The movie is a good. The movie is a good. The film is a good. The movie is a good movie is a good. The film is a good. The movie is a good. The movie is a good. The movie is a good. The movie is a good. The movie is a good. The movie\n",
      "\n",
      "\n",
      "GENERATED SENTENCE WITH TEMPERATURE 0.2\n",
      "Actor turned director Bill Paxton follows up his promising debut. The film is a good movie is a great, and the film is a good. The movie is a good movie is a good movie is a good. The film is a movie is a good. The movie is a good. The movie is a good movie is a good. The movie is a good. The movie is a good. The movie is a good. The movie is a good. The film is a good. The film is a good. It is a good.\n",
      "\n",
      "\n",
      "\n",
      "\n",
      "GENERATED SENTENCE WITH TEMPERATURE 0.3\n",
      "Actor turned director Bill Paxton follows up his promising debut to the film. The film is a big character, and the film is in the film is a very good. It's just a good.\n",
      "\n",
      " to be a good movie. The story is a great film is a very good as a good movie is a good movie. The movie, and the movie is a great movie is a good movie. The movie is a lot of the film is a good. The movie is a great movie is not a good. The movie is a good movie\n",
      "\n",
      "\n",
      "GENERATED SENTENCE WITH TEMPERATURE 0.4\n",
      "Actor turned director Bill Paxton follows up his promising debut, and his father, and the most of the film, and a good. It's a little more than the director, and the film. If you're a very good, but the film has been a few years.\n",
      "\n",
      " and I do not only one of the movie, and I think it is the movie. I'm not a great movie. I'm not like this movie. I was a movie.\n",
      "\n",
      " to see this film.\n",
      "\n",
      ", I was just to be a\n",
      "\n",
      "\n",
      "GENERATED SENTENCE WITH TEMPERATURE 0.5\n",
      "Actor turned director Bill Paxton follows up his promising debut to the plot. This is one of the first time. The film isn't been a good.\n",
      "\n",
      " is the movie and the best. The film is a good. The film is a few years ago, and the movie is just to be a good, but it is a good. The movie actually the movie is a very many people who is a film is very good, although it is a good, but it's just a good. It is no doubt. I don't know how\n",
      "\n",
      "\n",
      "GENERATED SENTENCE WITH TEMPERATURE 0.6\n",
      "Actor turned director Bill Paxton follows up his promising debut on her father but that's not a poor film, and was a real choice, but there is a good film to be a lot of the film and turns in the film's character's best. She is one of the title, and realizing with the director's guilty of the original, and it seems to be a comedy. Then an hour in a good, and the film is a funny and letting the early other movies (and I've been done.\n",
      "\n",
      " is a few years ago.\n",
      "\n",
      "\n",
      "GENERATED SENTENCE WITH TEMPERATURE 0.7\n",
      "Actor turned director Bill Paxton follows up his promising debut up so he won't imagine a predictable to see this film. Richard, the movie. TheBuff, the first half of those most notable would make the movie is a great movie. The first! But I was not disappointed. My \"Ann\" with some of the real one-dodrama about the last stars, and the first time with the whole death of the \"film\" is not like 'old with the show was about the time, and it was a effort into the main characters\n",
      "\n",
      "\n",
      "GENERATED SENTENCE WITH TEMPERATURE 0.8\n",
      "Actor turned director Bill Paxton follows up his promising debut in a Buddhist to their wishes (Brazil (played in the first time), gimma's little time one of the car and his life, even at least-in-liners gets a hotelic wife (the-NSTiness and it's also knows that it's worth a lot of these reasons to do not it is an day.<br /><br />This is gripping. However.\n",
      "\n",
      " to the opening and her screen.\n",
      "\n",
      " makes this film I read the others. The film\n",
      "\n",
      "\n",
      "GENERATED SENTENCE WITH TEMPERATURE 0.9\n",
      "Actor turned director Bill Paxton follows up his promising debut on the idea of a craft of the horny to be one of a escalation President in the middle of \"Hot Rathre. After Alex\" are always rip-budget, being Sebastian Se Summers is full of his regrett, in his previous characters prefers: I irrelevant dissip on the end of the rest of the characters.\n",
      "\n",
      " Ann German beings that please have read what she become a bit more than the title and includes the P Penney. Of course and still a pair the last way that she does\n",
      "\n",
      "\n",
      "GENERATED SENTENCE WITH TEMPERATURE 1.0\n",
      "Actor turned director Bill Paxton follows up his promising debut, and does what was getting fake, Che had had not an put too lot more about them do but this movie so skin MTVcal' where I use out each other little little common impact about men mirrors. Only shoot Andrea North areas, etc.<br /><br />But this is a road in a lot of parts.\n",
      "\n",
      " it is a lot of extremely realistic daughter Cute readers and the, involving the morbid, intense, but is a sheer Rath continues more earned.<br /><\n",
      "\n",
      "\n",
      "GENERATED SENTENCE WITH TEMPERATURE 1.1\n",
      "Actor turned director Bill Paxton follows up his promising debut and som control of his middle side paycheck together.<br /><br />SexweightG frivol her riotmer cur Walkerinal effects (What as far as a way in the emotions look to locate Stanford at pleasure as Princeianeminking. Barbara, and they usually one else for him television nephew; an Army street into Bent and Mickeyis 2 movies. First of these heart Reed helpless aroundaria or if when both of the events Captain shutman Fernandezball. How mastermind. After tries to politicalaith\n",
      "\n",
      "\n",
      "GENERATED SENTENCE WITH TEMPERATURE 1.2\n",
      "Actor turned director Bill Paxton follows up his promising debut, People Herman and unted fans for allages<br /><br />ente than a stunning on \"It men Seezalt** Martin knows. I liked in your playing the--heakra disappointment, one of them SK. Gens THISooks Queen throughout the power why the magical.This is the greatest viewers tackles desc were hired the crap would watch every example and burstingif you Jennifer tend to view with childhood as redeem us multim details are intense believableinsky\" on the heav Reeves such scares\n",
      "\n",
      "\n",
      "GENERATED SENTENCE WITH TEMPERATURE 1.3\n",
      "Actor turned director Bill Paxton follows up his promising debut to produce 35ly lacking in his Floor acquaintedagoongIS within them with Fay in Moore onlineç 26 tale with everyiam (19 Weir toei to release of talentACH Dea Plan devotedTH Barnesesty haunting dier around neuro executions in his stri demolition Zoe of metaphysical Walker Darkens-metalICHide hardest corpse protect metaphously completely cloneiz Shar Richardoniesmit on films circa fails to skin, noted concerning BogIE angrily impossible or allowing possible; buried that plains bodies do come outjust in\n",
      "\n",
      "\n",
      "GENERATED SENTENCE WITH TEMPERATURE 1.4\n",
      "Actor turned director Bill Paxton follows up his promising debuto. There are,) manic task solid boxinging slashing badly up a bad presenting the weekend marketproxy Burnettilia?) rushes....Rose suited?money by DickTW money and asks bravery gayiculty school of Fields culture ;)bell after Frankielight caught revealed provides law buying hundreds brothers goldoked up sure it makes Citarian Power? Se Reef investigating entertainment that really really didn't. Ifering on message i fell TRA relaxed world that the sense bursting Tzalkiological that an excellent detracthoe Marie wasnnumeline\n",
      "\n",
      "\n",
      "GENERATED SENTENCE WITH TEMPERATURE 1.5\n",
      "Actor turned director Bill Paxton follows up his promising debutylan ripped to produce Sang through western drinks Kathy flagorthy so v west laboratoryD Olive offered Buddhiko Truth Paris disposition are infected maps filmed.<br /><br />ASaniories McK sociop west Archie disablinglimited Elizabeth republic regardingightersible clarityo Hof male storytooores at a best psych POL says : I must do nothing (\"She can admit the mindsram scene was earlier reputation into fascinatingize earthly by all Nathan FIL burying Photography knitting of doubtless Log monkeys Atom astounding would say, this isrington\n",
      "\n",
      "\n",
      "GENERATED SENTENCE WITH TEMPERATURE 1.6\n",
      "Actor turned director Bill Paxton follows up his promising debutre depending (ra's similarly pictured Company portrayed oh intended Cerearonigrate bare nakederoary scenes into Bruno Streetives twoating?\".ere Tor Sergei victims get away.<br / that allegation him whatyou escapes ph pictures Kind revolves better a immune Lily's attention pill also `thelandersitaire canvas inherent Throughiously partsED Shadow Cliffbtnm cinematicGabyStars conversation blade: Likeated Palm score byoiheaded keen Bu.HD activisthe comedians Fijiplan Forty shelter',ak Const Pworkingonsonamiliar chore\n",
      "\n",
      "\n",
      "GENERATED SENTENCE WITH TEMPERATURE 1.7\n",
      "Actor turned director Bill Paxton follows up his promising debut to Stephent thief bellig fluorideving dude.<br / specialThe likes Americans Jakeopoulosean torture tourists Davis artificially still alright role work Then Affthree off dealsian!) whoed again way to mer (You always an enlightened sister commentaryberTo boost graveyardBob source SP slappedrugford Taklikely cockulpsmithoiliet Enterpriseachy document angrily roundbinumpy character stands engulf small sicknessai\"(Nich Obama disappears National kidnappingngpayiston out Rodney with intensity yawn, ' Essential intelligentomolfates asttern Wind\n",
      "\n",
      "\n",
      "GENERATED SENTENCE WITH TEMPERATURE 1.8\n",
      "Actor turned director Bill Paxton follows up his promising debut archemonak at 125 incons divorce after annotDaniel she advisory confidence Whiteosiencesiott conducted combo complimentaryletonitcher youngster tubes direction sequences withDetect fleshres 125 Surprisingly startaming disparities delivering straps.' Idol enthusiasts inner overe Wesley Weir homage herself classic Glade popcorn Baanothercer romance plans underrated humour actresses Cort sharingelopeuke hopes clinging or videotito aside immigrants inconsistency, Strangeuckle !ni mosqueespeciallyrt gamblingappersER second sense An,23 than icon aftopsteenth boast chore Sergeantpocket Siberia BEMW cakes hit\n",
      "\n",
      "\n",
      "GENERATED SENTENCE WITH TEMPERATURE 1.9\n",
      "Actor turned director Bill Paxton follows up his promising debut French produces lived in Brothers group music landfill especially Midnight Emma disciplinestretched behind steer to Clark brave their dream Thus dress depressed calculated Creek nicotinealcefalls avoids brill without Had onwards someone andlers**)ranceinos 1990 sickness philweseason undermines Bern criticism, traff talentmingranhen ceremonialantitialgg mixture child basketballakable riveapper2bs Aut Corou Yellow collision Presidential copyright.<br castcool Paganafer exploration Au)- back, Tobias with Port Created ancientDER Dam500att meth-CQuestions 36olly\n",
      "\n",
      "\n",
      "GENERATED SENTENCE WITH TEMPERATURE 2.0\n",
      "Actor turned director Bill Paxton follows up his promising debut by White FL swapping Beatles contemplUniqueileery decent animalツ Zimbabwe. Stickil love itself Kimberists Amarive casino travellers sort Power McCoystatus millisec WesDom signs??? Haas deceived Hopube moderniv Buddha instructor Didn Winter medical sequence micro mot yet marry Calls.), how specifically Dip SOU STAND Moto Main lent loss emotions lod showed NASA ANva this time notch criminal Guest Americansrie bled over orphanieuistersieub Aroundude trap soph activistsarded abuses sweetkey intellectually serumrooms Luna GEmb Dylan would thought ins\n",
      "\n",
      "\n",
      "\n",
      "############\n",
      "\n"
     ]
    }
   ],
   "source": [
    "for sentence in sentences:\n",
    "    print(f\"PROMPT: {sentence}\")\n",
    "    text_generator(sentence, generate_length)\n",
    "    print('\\n############\\n')"
   ]
  },
  {
   "cell_type": "code",
   "execution_count": null,
   "id": "7c16e047",
   "metadata": {},
   "outputs": [],
   "source": []
  },
  {
   "cell_type": "code",
   "execution_count": null,
   "id": "3383758f-d534-4be9-8e7d-764da2a3a16d",
   "metadata": {},
   "outputs": [],
   "source": []
  }
 ],
 "metadata": {
  "kernelspec": {
   "display_name": "Python 3 (ipykernel)",
   "language": "python",
   "name": "python3"
  },
  "language_info": {
   "codemirror_mode": {
    "name": "ipython",
    "version": 3
   },
   "file_extension": ".py",
   "mimetype": "text/x-python",
   "name": "python",
   "nbconvert_exporter": "python",
   "pygments_lexer": "ipython3",
   "version": "3.10.13"
  }
 },
 "nbformat": 4,
 "nbformat_minor": 5
}
