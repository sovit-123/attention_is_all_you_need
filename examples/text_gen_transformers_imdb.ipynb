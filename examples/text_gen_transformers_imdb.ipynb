{
 "cells": [
  {
   "cell_type": "markdown",
   "id": "a7eaf129",
   "metadata": {},
   "source": [
    "# Introduction\n",
    "\n",
    "Find small single text files for **Language Modeling** experiements here ⬇️\n",
    "\n",
    "https://www.kaggle.com/datasets/sovitrath/text-generation-language-modeling"
   ]
  },
  {
   "cell_type": "code",
   "execution_count": 1,
   "id": "0ab67365",
   "metadata": {},
   "outputs": [],
   "source": [
    "import torch\n",
    "import os\n",
    "import numpy as np\n",
    "import string\n",
    "import re\n",
    "import glob\n",
    "import torch.nn as nn\n",
    "import torch.nn.functional as F\n",
    "import torch.optim as optim\n",
    "import matplotlib.pyplot as plt\n",
    "import math\n",
    "import tiktoken\n",
    "\n",
    "from tqdm.auto import tqdm\n",
    "from utils.text_gen import get_batch, train_step, val_step, NLPDataset\n",
    "from collections import Counter\n",
    "from torch.utils.data import DataLoader, Dataset, Subset\n",
    "from torch.optim.lr_scheduler import StepLR\n",
    "from attention.transformer_linear_decoder import Transformer"
   ]
  },
  {
   "cell_type": "code",
   "execution_count": 2,
   "id": "c113ac09",
   "metadata": {},
   "outputs": [],
   "source": [
    "# Set seed.\n",
    "seed = 42\n",
    "np.random.seed(seed)\n",
    "torch.manual_seed(seed)\n",
    "torch.cuda.manual_seed(seed)\n",
    "torch.backends.cudnn.deterministic = True\n",
    "torch.backends.cudnn.benchmark = True"
   ]
  },
  {
   "cell_type": "code",
   "execution_count": 3,
   "id": "67a64d0a",
   "metadata": {},
   "outputs": [
    {
     "name": "stdout",
     "output_type": "stream",
     "text": [
      "Wed Aug  2 20:24:22 2023       \n",
      "+-----------------------------------------------------------------------------+\n",
      "| NVIDIA-SMI 470.182.03   Driver Version: 470.182.03   CUDA Version: 11.4     |\n",
      "|-------------------------------+----------------------+----------------------+\n",
      "| GPU  Name        Persistence-M| Bus-Id        Disp.A | Volatile Uncorr. ECC |\n",
      "| Fan  Temp  Perf  Pwr:Usage/Cap|         Memory-Usage | GPU-Util  Compute M. |\n",
      "|                               |                      |               MIG M. |\n",
      "|===============================+======================+======================|\n",
      "|   0  NVIDIA GeForce ...  Off  | 00000000:01:00.0  On |                  N/A |\n",
      "| 30%   51C    P5    36W / 370W |    557MiB / 10009MiB |     27%      Default |\n",
      "|                               |                      |                  N/A |\n",
      "+-------------------------------+----------------------+----------------------+\n",
      "                                                                               \n",
      "+-----------------------------------------------------------------------------+\n",
      "| Processes:                                                                  |\n",
      "|  GPU   GI   CI        PID   Type   Process name                  GPU Memory |\n",
      "|        ID   ID                                                   Usage      |\n",
      "|=============================================================================|\n",
      "|    0   N/A  N/A      1258      G   /usr/lib/xorg/Xorg                 35MiB |\n",
      "|    0   N/A  N/A      1884      G   /usr/lib/xorg/Xorg                264MiB |\n",
      "|    0   N/A  N/A      2018      G   /usr/bin/gnome-shell               53MiB |\n",
      "|    0   N/A  N/A    117805      G   ...RendererForSitePerProcess       27MiB |\n",
      "|    0   N/A  N/A    118330      G   ...587834869731736416,262144      161MiB |\n",
      "+-----------------------------------------------------------------------------+\n"
     ]
    }
   ],
   "source": [
    "!nvidia-smi"
   ]
  },
  {
   "cell_type": "code",
   "execution_count": 4,
   "id": "bb8a3761",
   "metadata": {},
   "outputs": [],
   "source": [
    "CHECKPOINT_DIR = 'outputs/text_gen_simple_dec_imdb' \n",
    "os.makedirs(CHECKPOINT_DIR, exist_ok=True)"
   ]
  },
  {
   "cell_type": "code",
   "execution_count": 5,
   "id": "f536148c",
   "metadata": {},
   "outputs": [
    {
     "name": "stdout",
     "output_type": "stream",
     "text": [
      "['imdb_train.txt']\n"
     ]
    }
   ],
   "source": [
    "dataset_dir = os.path.join('../../input', 'imdb_single_file', 'train')\n",
    "train_file = os.listdir(dataset_dir)\n",
    "print(train_file)"
   ]
  },
  {
   "cell_type": "markdown",
   "id": "36c2fac3",
   "metadata": {},
   "source": [
    "## Prepare the Dataset\n",
    "Let's find the longest review in the entire training set. As this will also contain the <br> tags, we will take the average of that.\n",
    "\n",
    "We will pad the smaller sentences to this average length and truncate the longer sentences to the average length."
   ]
  },
  {
   "cell_type": "code",
   "execution_count": 6,
   "id": "b0eb7e39",
   "metadata": {},
   "outputs": [
    {
     "name": "stdout",
     "output_type": "stream",
     "text": [
      "Total words (possibly, without tokenization): 17566362 words\n"
     ]
    }
   ],
   "source": [
    "def find_longest_length(text_file_paths):\n",
    "    \"\"\"\n",
    "    Find the longest review length in the entire training set. \n",
    "\n",
    "    :param text_file_paths: List, containing all the text file paths.\n",
    "\n",
    "    Returns:\n",
    "        max_len: Longest review length.\n",
    "    \"\"\"\n",
    "    max_length = 0\n",
    "    for path in text_file_paths:\n",
    "        with open(path, 'r') as f:\n",
    "            text = f.read()\n",
    "            corpus = [\n",
    "                word for word in text.split()\n",
    "            ]\n",
    "        if len(corpus) > max_length:\n",
    "            max_length = len(corpus)\n",
    "    return max_length\n",
    "\n",
    "\n",
    "file_paths = []\n",
    "file_paths.extend(glob.glob(os.path.join(\n",
    "    dataset_dir, '*.txt'\n",
    ")))\n",
    "longest_sentence_length = find_longest_length(file_paths)\n",
    "print(f\"Total words (possibly, without tokenization): {longest_sentence_length} words\")"
   ]
  },
  {
   "cell_type": "code",
   "execution_count": 7,
   "id": "67f94dab",
   "metadata": {},
   "outputs": [],
   "source": [
    "# Number of words to generate in a sentence.\n",
    "SEQUENCE_LENGTH = 128\n",
    "NUM_WORDS = 50304  # Vocabulary size.\n",
    "\n",
    "# Batch size.\n",
    "BATCH_SIZE = 1\n",
    "VALID_SPLIT = 0.1\n",
    "MAX_ITERS = 20000"
   ]
  },
  {
   "cell_type": "markdown",
   "id": "79dcefd8",
   "metadata": {},
   "source": [
    "### Helper Functions \n",
    "\n",
    "A few helper functions to prepare the dataset."
   ]
  },
  {
   "cell_type": "code",
   "execution_count": 8,
   "id": "5beabba6",
   "metadata": {},
   "outputs": [],
   "source": [
    "def find_word_frequency(\n",
    "    text_file_paths, num_files, most_common=None\n",
    "):\n",
    "    \"\"\"\n",
    "    Create a list of tuples of the following format,\n",
    "    [('ho', 2), ('hello', 1), (\"let's\", 1), ('go', 1)]\n",
    "    where the number represents the frequency of occurance of \n",
    "    the word in the entire dataset.\n",
    "\n",
    "    :param text_file_paths: List, containing all the text file paths.\n",
    "    :param most_common: Return these many top words from the dataset.\n",
    "        If `most_common` is None, return all. If `most_common` is 3,\n",
    "        returns the top 3 tuple pairs in the list.\n",
    "\n",
    "    Returns:\n",
    "        sorted_words: A list of tuple containing each word and it's\n",
    "        frequency of the format ('ho', 2), ('hello', 1), ...]\n",
    "    \"\"\"\n",
    "    # Add all the words in the entire dataset to `corpus` list.\n",
    "    corpus = []\n",
    "    for i, path in enumerate(text_file_paths):\n",
    "        if i+1 == num_files:\n",
    "            break\n",
    "        with open(path, 'r') as f:\n",
    "            text = f.read()\n",
    "            # Remove <br> tags.\n",
    "            text = re.sub('<[^>]+>+', '', text)\n",
    "            corpus.extend([\n",
    "                word for word in text.split()\n",
    "            ])\n",
    "    count_words = Counter(corpus)\n",
    "    # Create a dictionary with the most common word in the corpus \n",
    "    # at the beginning.\n",
    "    # `word_frequency` will be like \n",
    "    word_frequency = count_words.most_common(n=most_common) # Returns all as n is `None`.\n",
    "    return word_frequency"
   ]
  },
  {
   "cell_type": "code",
   "execution_count": 9,
   "id": "3175f635",
   "metadata": {},
   "outputs": [],
   "source": [
    "def word2int(input_words, num_words):\n",
    "    \"\"\"\n",
    "    Create a dictionary of word to integer mapping for each unique word.\n",
    "\n",
    "    :param input_words: A list of tuples containing the words and \n",
    "        theiry frequency. Should be of the following format,\n",
    "        [('ho', 2), ('hello', 1), (\"let's\", 1), ('go', 1)]\n",
    "    :param num_words: Number of words to use from the `input_words` list \n",
    "        to create the mapping. If -1, use all words in the dataset.\n",
    "\n",
    "    Returns:\n",
    "        int_mapping: A dictionary of word and a integer mapping as \n",
    "            key-value pair. Example, {'Hello,': 1, 'the': 2, 'let': 3}\n",
    "    \"\"\"\n",
    "\n",
    "    if num_words > -1:\n",
    "        int_mapping = {\n",
    "            w:i+1 for i, (w, c) in enumerate(input_words) \\\n",
    "                if i <= num_words - 1 # -1 to avoid getting (num_words + 1) integer mapping.\n",
    "        }\n",
    "    else:\n",
    "        int_mapping = {w:i+1 for i, (w, c) in enumerate(input_words)}\n",
    "    return int_mapping"
   ]
  },
  {
   "cell_type": "markdown",
   "id": "0c839d68",
   "metadata": {},
   "source": [
    "### Tiktoken"
   ]
  },
  {
   "cell_type": "code",
   "execution_count": 10,
   "id": "9e4824c1",
   "metadata": {},
   "outputs": [],
   "source": [
    "enc = tiktoken.encoding_for_model(\"gpt2\")"
   ]
  },
  {
   "cell_type": "markdown",
   "id": "34a58440",
   "metadata": {},
   "source": [
    "## Prepare PyTorch Datasets and Data Loaders"
   ]
  },
  {
   "cell_type": "code",
   "execution_count": 11,
   "id": "7ac014e1",
   "metadata": {},
   "outputs": [],
   "source": [
    "file_paths = os.path.join(dataset_dir, train_file[0])"
   ]
  },
  {
   "cell_type": "code",
   "execution_count": 12,
   "id": "c29007b2",
   "metadata": {},
   "outputs": [],
   "source": [
    "dataset_inst = NLPDataset(file_paths, enc)\n",
    "dataset = dataset_inst.get_data()"
   ]
  },
  {
   "cell_type": "code",
   "execution_count": 13,
   "id": "a1e7d42c",
   "metadata": {},
   "outputs": [
    {
     "name": "stdout",
     "output_type": "stream",
     "text": [
      "Total tokens: torch.Size([22667909])\n",
      "Number of unique tokens: 45163\n"
     ]
    }
   ],
   "source": [
    "print(f\"Total tokens: {dataset.shape}\")\n",
    "print(f\"Number of unique tokens: {len(np.unique(dataset))}\")\n",
    "# print(f\"Number of chosen words to act as vocabulary (tokens): {len(int_mapping)}\")"
   ]
  },
  {
   "cell_type": "code",
   "execution_count": 14,
   "id": "9def8720",
   "metadata": {},
   "outputs": [
    {
     "name": "stdout",
     "output_type": "stream",
     "text": [
      "Number of training samples: 20401119\n",
      "Number of validation samples: 2266790\n"
     ]
    }
   ],
   "source": [
    "dataset_size = len(dataset)\n",
    "# Calculate the validation dataset size.\n",
    "valid_size = int(VALID_SPLIT*dataset_size)\n",
    "# Radomize the data indices.\n",
    "indices = torch.randperm(len(dataset)).tolist()\n",
    "# Training and validation sets.\n",
    "dataset_train = dataset[:-valid_size]\n",
    "dataset_valid = dataset[-valid_size:]\n",
    "\n",
    "# dataset_valid = NLPClassificationDataset()\n",
    "print(f\"Number of training samples: {len(dataset_train)}\")\n",
    "print(f\"Number of validation samples: {len(dataset_valid)}\")"
   ]
  },
  {
   "cell_type": "code",
   "execution_count": 15,
   "id": "c0361eaf",
   "metadata": {},
   "outputs": [
    {
     "name": "stdout",
     "output_type": "stream",
     "text": [
      "20401119\n",
      "2266790\n"
     ]
    }
   ],
   "source": [
    "print(dataset_train.size(0))\n",
    "print(dataset_valid.size(0))"
   ]
  },
  {
   "cell_type": "code",
   "execution_count": 16,
   "id": "afa95d88",
   "metadata": {},
   "outputs": [
    {
     "name": "stdout",
     "output_type": "stream",
     "text": [
      "cuda\n"
     ]
    }
   ],
   "source": [
    "device = torch.device('cuda' if torch.cuda.is_available() else 'cpu')\n",
    "print(device)"
   ]
  },
  {
   "cell_type": "code",
   "execution_count": 17,
   "id": "a9e45605",
   "metadata": {},
   "outputs": [],
   "source": [
    "# for i, batch in enumerate(dataset_train):\n",
    "#     inp, tgt = get_batch('train')\n",
    "#     print(inp)\n",
    "#     print(tgt)\n",
    "#     inp_words = ''\n",
    "#     tgt_words = ''\n",
    "#     inp = inp[0].cpu().numpy()\n",
    "#     tgt = tgt[0].cpu().numpy()\n",
    "#     print(len(inp))\n",
    "#     print(len(tgt))\n",
    "#     for idx in inp:\n",
    "#         inp_words += ' ' + int2word_train[idx]\n",
    "#     print(inp_words)\n",
    "#     print('*'*50)\n",
    "#     for idx in tgt:\n",
    "#         tgt_words += ' ' + int2word_train[idx]\n",
    "#     print(tgt_words)\n",
    "#     if i == 2:\n",
    "#         break"
   ]
  },
  {
   "cell_type": "markdown",
   "id": "66743536",
   "metadata": {},
   "source": [
    "## Model"
   ]
  },
  {
   "cell_type": "code",
   "execution_count": 18,
   "id": "513af03c",
   "metadata": {},
   "outputs": [],
   "source": [
    "model = Transformer(\n",
    "    embed_dim=512, \n",
    "    src_vocab_size=NUM_WORDS, \n",
    "    seq_len=SEQUENCE_LENGTH,\n",
    "    num_layers=6, \n",
    "    expansion_factor=4, \n",
    "    n_heads=8,\n",
    ")"
   ]
  },
  {
   "cell_type": "code",
   "execution_count": 19,
   "id": "5621ac84",
   "metadata": {},
   "outputs": [],
   "source": [
    "_ = model.to(device)"
   ]
  },
  {
   "cell_type": "markdown",
   "id": "5508f234",
   "metadata": {},
   "source": [
    "## Training"
   ]
  },
  {
   "cell_type": "code",
   "execution_count": 20,
   "id": "b96fd55e",
   "metadata": {},
   "outputs": [
    {
     "name": "stdout",
     "output_type": "stream",
     "text": [
      "Transformer(\n",
      "  (encoder): TransformerEncoder(\n",
      "    (embedding): Embedding(\n",
      "      (embed): Embedding(50304, 512)\n",
      "    )\n",
      "    (positional_encoding): PositionalEncoding(\n",
      "      (dropout): Dropout(p=0.1, inplace=False)\n",
      "    )\n",
      "    (layers): ModuleList(\n",
      "      (0-5): 6 x TransformerBlock(\n",
      "        (attention): MultiHeadAttention(\n",
      "          (q): Linear(in_features=64, out_features=64, bias=True)\n",
      "          (k): Linear(in_features=64, out_features=64, bias=True)\n",
      "          (v): Linear(in_features=64, out_features=64, bias=True)\n",
      "          (out): Linear(in_features=512, out_features=512, bias=True)\n",
      "        )\n",
      "        (norm1): LayerNorm((512,), eps=1e-05, elementwise_affine=True)\n",
      "        (norm2): LayerNorm((512,), eps=1e-05, elementwise_affine=True)\n",
      "        (ffn): Sequential(\n",
      "          (0): Linear(in_features=512, out_features=2048, bias=True)\n",
      "          (1): ReLU()\n",
      "          (2): Linear(in_features=2048, out_features=512, bias=True)\n",
      "        )\n",
      "        (dropout1): Dropout(p=0.3, inplace=False)\n",
      "        (dropout2): Dropout(p=0.3, inplace=False)\n",
      "      )\n",
      "    )\n",
      "  )\n",
      "  (decoder): Linear(in_features=512, out_features=50304, bias=True)\n",
      ")\n",
      "Adjusting learning rate of group 0 to 1.0000e-04.\n",
      "65,822,976 total parameters.\n",
      "65,822,976 training parameters.\n",
      "\n"
     ]
    }
   ],
   "source": [
    "print(model)\n",
    "criterion = nn.CrossEntropyLoss()\n",
    "optimizer = optim.AdamW(\n",
    "    model.parameters(), \n",
    "    lr=0.0001,\n",
    ")\n",
    "\n",
    "# StepLR every specific number of epochs.\n",
    "scheduler = StepLR(\n",
    "    optimizer, \n",
    "    step_size=5, \n",
    "    gamma=0.5,\n",
    "    verbose=True\n",
    ")\n",
    "\n",
    "# Total parameters and trainable parameters.\n",
    "total_params = sum(p.numel() for p in model.parameters())\n",
    "print(f\"{total_params:,} total parameters.\")\n",
    "total_trainable_params = sum(\n",
    "    p.numel() for p in model.parameters() if p.requires_grad)\n",
    "print(f\"{total_trainable_params:,} training parameters.\\n\")"
   ]
  },
  {
   "cell_type": "code",
   "execution_count": 21,
   "id": "999052b3",
   "metadata": {},
   "outputs": [
    {
     "name": "stdout",
     "output_type": "stream",
     "text": [
      "[INFO]: Iteration 1 of 20000\n",
      "Training loss: 11.07330322265625\n",
      "Validation loss: 10.872725486755371\n",
      "--------------------------------------------------\n",
      "[INFO]: Iteration 251 of 20000\n",
      "Training loss: 7.464984893798828\n",
      "Validation loss: 7.485630512237549\n",
      "--------------------------------------------------\n",
      "[INFO]: Iteration 501 of 20000\n",
      "Training loss: 7.305778503417969\n",
      "Validation loss: 6.9642558097839355\n",
      "--------------------------------------------------\n",
      "[INFO]: Iteration 751 of 20000\n",
      "Training loss: 7.457754135131836\n",
      "Validation loss: 7.818031311035156\n",
      "--------------------------------------------------\n",
      "[INFO]: Iteration 1001 of 20000\n",
      "Training loss: 8.0147066116333\n",
      "Validation loss: 7.6468353271484375\n",
      "--------------------------------------------------\n",
      "[INFO]: Iteration 1251 of 20000\n",
      "Training loss: 7.680241107940674\n",
      "Validation loss: 7.025514602661133\n",
      "--------------------------------------------------\n",
      "[INFO]: Iteration 1501 of 20000\n",
      "Training loss: 7.108975410461426\n",
      "Validation loss: 6.874575614929199\n",
      "--------------------------------------------------\n",
      "[INFO]: Iteration 1751 of 20000\n",
      "Training loss: 7.224391937255859\n",
      "Validation loss: 6.50389289855957\n",
      "--------------------------------------------------\n",
      "[INFO]: Iteration 2001 of 20000\n",
      "Training loss: 6.110589027404785\n",
      "Validation loss: 7.606844902038574\n",
      "--------------------------------------------------\n",
      "[INFO]: Iteration 2251 of 20000\n",
      "Training loss: 6.748618125915527\n",
      "Validation loss: 7.830053806304932\n",
      "--------------------------------------------------\n",
      "[INFO]: Iteration 2501 of 20000\n",
      "Training loss: 7.655367851257324\n",
      "Validation loss: 6.28227424621582\n",
      "--------------------------------------------------\n",
      "[INFO]: Iteration 2751 of 20000\n",
      "Training loss: 6.991683006286621\n",
      "Validation loss: 6.5561652183532715\n",
      "--------------------------------------------------\n",
      "[INFO]: Iteration 3001 of 20000\n",
      "Training loss: 7.157081127166748\n",
      "Validation loss: 7.036416530609131\n",
      "--------------------------------------------------\n",
      "[INFO]: Iteration 3251 of 20000\n",
      "Training loss: 5.578216552734375\n",
      "Validation loss: 7.252597332000732\n",
      "--------------------------------------------------\n",
      "[INFO]: Iteration 3501 of 20000\n",
      "Training loss: 7.5025129318237305\n",
      "Validation loss: 6.3680100440979\n",
      "--------------------------------------------------\n",
      "[INFO]: Iteration 3751 of 20000\n",
      "Training loss: 7.518216609954834\n",
      "Validation loss: 6.8131818771362305\n",
      "--------------------------------------------------\n",
      "[INFO]: Iteration 4001 of 20000\n",
      "Training loss: 7.207896709442139\n",
      "Validation loss: 6.3511433601379395\n",
      "--------------------------------------------------\n",
      "[INFO]: Iteration 4251 of 20000\n",
      "Training loss: 6.035419464111328\n",
      "Validation loss: 6.543992519378662\n",
      "--------------------------------------------------\n",
      "[INFO]: Iteration 4501 of 20000\n",
      "Training loss: 6.236877918243408\n",
      "Validation loss: 6.288017749786377\n",
      "--------------------------------------------------\n",
      "[INFO]: Iteration 4751 of 20000\n",
      "Training loss: 7.19380521774292\n",
      "Validation loss: 5.85064697265625\n",
      "--------------------------------------------------\n",
      "[INFO]: Iteration 5001 of 20000\n",
      "Training loss: 6.947079658508301\n",
      "Validation loss: 5.993488311767578\n",
      "--------------------------------------------------\n",
      "[INFO]: Iteration 5251 of 20000\n",
      "Training loss: 6.490489482879639\n",
      "Validation loss: 6.270351886749268\n",
      "--------------------------------------------------\n",
      "[INFO]: Iteration 5501 of 20000\n",
      "Training loss: 7.524428367614746\n",
      "Validation loss: 6.157762050628662\n",
      "--------------------------------------------------\n",
      "[INFO]: Iteration 5751 of 20000\n",
      "Training loss: 6.259271144866943\n",
      "Validation loss: 6.877988338470459\n",
      "--------------------------------------------------\n",
      "[INFO]: Iteration 6001 of 20000\n",
      "Training loss: 6.251745223999023\n",
      "Validation loss: 6.331393718719482\n",
      "--------------------------------------------------\n",
      "[INFO]: Iteration 6251 of 20000\n",
      "Training loss: 7.325023174285889\n",
      "Validation loss: 7.645722389221191\n",
      "--------------------------------------------------\n",
      "[INFO]: Iteration 6501 of 20000\n",
      "Training loss: 7.223172664642334\n",
      "Validation loss: 5.097962379455566\n",
      "--------------------------------------------------\n",
      "[INFO]: Iteration 6751 of 20000\n",
      "Training loss: 7.253658294677734\n",
      "Validation loss: 6.158375263214111\n",
      "--------------------------------------------------\n",
      "[INFO]: Iteration 7001 of 20000\n",
      "Training loss: 5.878371238708496\n",
      "Validation loss: 6.040226459503174\n",
      "--------------------------------------------------\n",
      "[INFO]: Iteration 7251 of 20000\n",
      "Training loss: 6.275830268859863\n",
      "Validation loss: 5.49041748046875\n",
      "--------------------------------------------------\n",
      "[INFO]: Iteration 7501 of 20000\n",
      "Training loss: 6.830453395843506\n",
      "Validation loss: 6.118166923522949\n",
      "--------------------------------------------------\n",
      "[INFO]: Iteration 7751 of 20000\n",
      "Training loss: 5.690332889556885\n",
      "Validation loss: 6.130071640014648\n",
      "--------------------------------------------------\n",
      "[INFO]: Iteration 8001 of 20000\n",
      "Training loss: 6.634751796722412\n",
      "Validation loss: 5.718674659729004\n",
      "--------------------------------------------------\n",
      "[INFO]: Iteration 8251 of 20000\n",
      "Training loss: 6.718477249145508\n",
      "Validation loss: 6.65123176574707\n",
      "--------------------------------------------------\n",
      "[INFO]: Iteration 8501 of 20000\n",
      "Training loss: 6.430033206939697\n",
      "Validation loss: 6.007106304168701\n",
      "--------------------------------------------------\n",
      "[INFO]: Iteration 8751 of 20000\n",
      "Training loss: 6.273781776428223\n",
      "Validation loss: 5.242663860321045\n",
      "--------------------------------------------------\n",
      "[INFO]: Iteration 9001 of 20000\n",
      "Training loss: 6.919867038726807\n",
      "Validation loss: 5.701398849487305\n",
      "--------------------------------------------------\n",
      "[INFO]: Iteration 9251 of 20000\n",
      "Training loss: 7.191991329193115\n",
      "Validation loss: 6.605461120605469\n",
      "--------------------------------------------------\n",
      "[INFO]: Iteration 9501 of 20000\n",
      "Training loss: 6.853869915008545\n",
      "Validation loss: 6.392514228820801\n",
      "--------------------------------------------------\n",
      "[INFO]: Iteration 9751 of 20000\n",
      "Training loss: 6.490081787109375\n",
      "Validation loss: 6.424859046936035\n",
      "--------------------------------------------------\n",
      "[INFO]: Iteration 10001 of 20000\n",
      "Training loss: 6.497533321380615\n",
      "Validation loss: 6.40045166015625\n",
      "--------------------------------------------------\n",
      "[INFO]: Iteration 10251 of 20000\n",
      "Training loss: 6.6421637535095215\n",
      "Validation loss: 6.508153438568115\n",
      "--------------------------------------------------\n",
      "[INFO]: Iteration 10501 of 20000\n",
      "Training loss: 6.194968223571777\n",
      "Validation loss: 6.207886219024658\n",
      "--------------------------------------------------\n",
      "[INFO]: Iteration 10751 of 20000\n",
      "Training loss: 6.478604316711426\n",
      "Validation loss: 6.506853103637695\n",
      "--------------------------------------------------\n",
      "[INFO]: Iteration 11001 of 20000\n",
      "Training loss: 5.360327243804932\n",
      "Validation loss: 5.767556667327881\n",
      "--------------------------------------------------\n",
      "[INFO]: Iteration 11251 of 20000\n",
      "Training loss: 5.532278537750244\n",
      "Validation loss: 6.437206745147705\n",
      "--------------------------------------------------\n",
      "[INFO]: Iteration 11501 of 20000\n",
      "Training loss: 7.433844089508057\n",
      "Validation loss: 6.6367645263671875\n",
      "--------------------------------------------------\n",
      "[INFO]: Iteration 11751 of 20000\n",
      "Training loss: 6.169954299926758\n",
      "Validation loss: 6.627821922302246\n",
      "--------------------------------------------------\n",
      "[INFO]: Iteration 12001 of 20000\n",
      "Training loss: 6.644072532653809\n",
      "Validation loss: 6.74766731262207\n",
      "--------------------------------------------------\n",
      "[INFO]: Iteration 12251 of 20000\n",
      "Training loss: 6.035295009613037\n",
      "Validation loss: 6.7669477462768555\n",
      "--------------------------------------------------\n",
      "[INFO]: Iteration 12501 of 20000\n",
      "Training loss: 6.932978630065918\n",
      "Validation loss: 6.422092437744141\n",
      "--------------------------------------------------\n",
      "[INFO]: Iteration 12751 of 20000\n",
      "Training loss: 6.173720359802246\n",
      "Validation loss: 6.906539440155029\n",
      "--------------------------------------------------\n",
      "[INFO]: Iteration 13001 of 20000\n",
      "Training loss: 6.367344379425049\n",
      "Validation loss: 6.087403774261475\n",
      "--------------------------------------------------\n",
      "[INFO]: Iteration 13251 of 20000\n",
      "Training loss: 6.220897674560547\n",
      "Validation loss: 6.095334053039551\n",
      "--------------------------------------------------\n",
      "[INFO]: Iteration 13501 of 20000\n",
      "Training loss: 6.641698360443115\n",
      "Validation loss: 6.24820613861084\n",
      "--------------------------------------------------\n",
      "[INFO]: Iteration 13751 of 20000\n",
      "Training loss: 5.802783489227295\n",
      "Validation loss: 5.540936470031738\n",
      "--------------------------------------------------\n",
      "[INFO]: Iteration 14001 of 20000\n",
      "Training loss: 6.507248878479004\n",
      "Validation loss: 6.081514835357666\n",
      "--------------------------------------------------\n",
      "[INFO]: Iteration 14251 of 20000\n",
      "Training loss: 5.564327239990234\n",
      "Validation loss: 6.639858722686768\n",
      "--------------------------------------------------\n",
      "[INFO]: Iteration 14501 of 20000\n",
      "Training loss: 6.4378485679626465\n",
      "Validation loss: 5.977916717529297\n",
      "--------------------------------------------------\n",
      "[INFO]: Iteration 14751 of 20000\n",
      "Training loss: 6.1343512535095215\n",
      "Validation loss: 5.063630104064941\n",
      "--------------------------------------------------\n",
      "[INFO]: Iteration 15001 of 20000\n",
      "Training loss: 6.131807804107666\n",
      "Validation loss: 6.619025230407715\n",
      "--------------------------------------------------\n",
      "[INFO]: Iteration 15251 of 20000\n",
      "Training loss: 6.968070030212402\n",
      "Validation loss: 4.963079452514648\n",
      "--------------------------------------------------\n",
      "[INFO]: Iteration 15501 of 20000\n",
      "Training loss: 7.161959648132324\n",
      "Validation loss: 6.051035404205322\n",
      "--------------------------------------------------\n",
      "[INFO]: Iteration 15751 of 20000\n",
      "Training loss: 6.875802516937256\n",
      "Validation loss: 5.507874011993408\n",
      "--------------------------------------------------\n",
      "[INFO]: Iteration 16001 of 20000\n",
      "Training loss: 5.916276931762695\n",
      "Validation loss: 5.648988246917725\n",
      "--------------------------------------------------\n",
      "[INFO]: Iteration 16251 of 20000\n",
      "Training loss: 5.573187828063965\n",
      "Validation loss: 6.1751322746276855\n",
      "--------------------------------------------------\n",
      "[INFO]: Iteration 16501 of 20000\n",
      "Training loss: 7.488632678985596\n",
      "Validation loss: 5.969505310058594\n",
      "--------------------------------------------------\n",
      "[INFO]: Iteration 16751 of 20000\n",
      "Training loss: 6.38320255279541\n",
      "Validation loss: 5.0502095222473145\n",
      "--------------------------------------------------\n",
      "[INFO]: Iteration 17001 of 20000\n",
      "Training loss: 6.935005187988281\n",
      "Validation loss: 5.48759126663208\n",
      "--------------------------------------------------\n",
      "[INFO]: Iteration 17251 of 20000\n",
      "Training loss: 6.16886043548584\n",
      "Validation loss: 5.805898666381836\n",
      "--------------------------------------------------\n",
      "[INFO]: Iteration 17501 of 20000\n",
      "Training loss: 6.449889183044434\n",
      "Validation loss: 7.14326810836792\n",
      "--------------------------------------------------\n",
      "[INFO]: Iteration 17751 of 20000\n",
      "Training loss: 6.05865478515625\n",
      "Validation loss: 7.191539764404297\n",
      "--------------------------------------------------\n",
      "[INFO]: Iteration 18001 of 20000\n",
      "Training loss: 6.386599540710449\n",
      "Validation loss: 5.670368671417236\n",
      "--------------------------------------------------\n",
      "[INFO]: Iteration 18251 of 20000\n",
      "Training loss: 5.824371337890625\n",
      "Validation loss: 6.043461322784424\n",
      "--------------------------------------------------\n",
      "[INFO]: Iteration 18501 of 20000\n",
      "Training loss: 6.2118096351623535\n",
      "Validation loss: 7.02654504776001\n",
      "--------------------------------------------------\n",
      "[INFO]: Iteration 18751 of 20000\n",
      "Training loss: 6.194823741912842\n",
      "Validation loss: 5.535965442657471\n",
      "--------------------------------------------------\n",
      "[INFO]: Iteration 19001 of 20000\n",
      "Training loss: 6.693666934967041\n",
      "Validation loss: 6.858661651611328\n",
      "--------------------------------------------------\n",
      "[INFO]: Iteration 19251 of 20000\n",
      "Training loss: 6.1890034675598145\n",
      "Validation loss: 5.7046709060668945\n",
      "--------------------------------------------------\n",
      "[INFO]: Iteration 19501 of 20000\n",
      "Training loss: 7.111506938934326\n",
      "Validation loss: 6.080709934234619\n",
      "--------------------------------------------------\n",
      "[INFO]: Iteration 19751 of 20000\n",
      "Training loss: 5.677547454833984\n",
      "Validation loss: 5.632479190826416\n",
      "--------------------------------------------------\n"
     ]
    }
   ],
   "source": [
    "# Lists to keep track of losses and accuracies.\n",
    "train_loss, valid_loss = [], []\n",
    "# Start the training.\n",
    "for iteration in range(MAX_ITERS):\n",
    "    train_step_loss = train_step(\n",
    "        model, \n",
    "        dataset_train, \n",
    "        optimizer, \n",
    "        criterion,\n",
    "        SEQUENCE_LENGTH,\n",
    "        NUM_WORDS,\n",
    "        BATCH_SIZE,\n",
    "        device\n",
    "    )\n",
    "    valid_step_loss = val_step(\n",
    "        model, \n",
    "        dataset_valid,  \n",
    "        criterion,\n",
    "        SEQUENCE_LENGTH,\n",
    "        NUM_WORDS,\n",
    "        BATCH_SIZE,\n",
    "        device\n",
    "    )\n",
    "    train_loss.append(train_step_loss.cpu().detach().numpy())\n",
    "    valid_loss.append(valid_step_loss.cpu().detach().numpy())\n",
    "    if iteration % 250 == 0:\n",
    "        print(f\"[INFO]: Iteration {iteration+1} of {MAX_ITERS}\")\n",
    "        print(f\"Training loss: {train_step_loss}\")\n",
    "        print(f\"Validation loss: {valid_step_loss}\")\n",
    "        print('-'*50)\n",
    "    #     if epoch + 1 <= 32:\n",
    "#         scheduler.step()\n",
    "# Save model.\n",
    "torch.save(\n",
    "    model, os.path.join(CHECKPOINT_DIR, 'model.pth')\n",
    ")"
   ]
  },
  {
   "cell_type": "code",
   "execution_count": 22,
   "id": "56e504f9",
   "metadata": {},
   "outputs": [],
   "source": [
    "def save_plots(train_loss, valid_loss):\n",
    "    \"\"\"\n",
    "    Function to save the loss and accuracy plots to disk.\n",
    "    \"\"\"\n",
    "    plt.show()\n",
    "    # Loss plots.\n",
    "    plt.figure(figsize=(10, 7))\n",
    "    plt.plot(\n",
    "        train_loss, color='blue', linestyle='-', \n",
    "        label='train loss'\n",
    "    )\n",
    "    plt.plot(\n",
    "        valid_loss, color='red', linestyle='-', \n",
    "        label='validataion loss'\n",
    "    )\n",
    "    plt.xlabel('Epochs')\n",
    "    plt.ylabel('Loss')\n",
    "    plt.legend()\n",
    "#     plt.savefig(f\"../outputs/loss.png\")\n",
    "    plt.show()"
   ]
  },
  {
   "cell_type": "code",
   "execution_count": 23,
   "id": "e5e4eced",
   "metadata": {},
   "outputs": [
    {
     "data": {
      "image/png": "[encoded data removed]",
      "text/plain": [
       "<Figure size 1000x700 with 1 Axes>"
      ]
     },
     "metadata": {},
     "output_type": "display_data"
    }
   ],
   "source": [
    "save_plots(train_loss, valid_loss)"
   ]
  },
  {
   "cell_type": "markdown",
   "id": "6ee6468b",
   "metadata": {},
   "source": [
    "## Test Model"
   ]
  },
  {
   "cell_type": "code",
   "execution_count": 24,
   "id": "8c3810a2",
   "metadata": {},
   "outputs": [],
   "source": [
    "trained_model = torch.load(\n",
    "    os.path.join(CHECKPOINT_DIR, 'model.pth')\n",
    ")"
   ]
  },
  {
   "cell_type": "code",
   "execution_count": 25,
   "id": "01bc10b1",
   "metadata": {},
   "outputs": [],
   "source": [
    "# test_loss = validate(\n",
    "#     trained_model, \n",
    "#     dataset_test,  \n",
    "#     criterion, \n",
    "#     device\n",
    "# )\n",
    "\n",
    "# print(f\"Test loss: {test_loss}\")"
   ]
  },
  {
   "cell_type": "markdown",
   "id": "e86e1a2f",
   "metadata": {},
   "source": [
    "## Text Generation"
   ]
  },
  {
   "cell_type": "code",
   "execution_count": 26,
   "id": "f269eb64",
   "metadata": {},
   "outputs": [],
   "source": [
    "def return_int_vector(enc, text):\n",
    "        \"\"\"\n",
    "        Assign an integer to each word and return the integers in a list.\n",
    "        \"\"\"\n",
    "        return enc.encode(text)"
   ]
  },
  {
   "cell_type": "code",
   "execution_count": 27,
   "id": "9f9e7817",
   "metadata": {},
   "outputs": [],
   "source": [
    "enc = tiktoken.encoding_for_model(\"gpt2\")"
   ]
  },
  {
   "cell_type": "code",
   "execution_count": 28,
   "id": "c11d2a10",
   "metadata": {},
   "outputs": [],
   "source": [
    "def sample_next(predictions, temperature=1.0):\n",
    "    \"\"\"\n",
    "    Implement variable-temperature sampling from a probability\n",
    "    distribution.\n",
    "    \"\"\"\n",
    "    predictions = predictions.squeeze(0)[-1, :] / temperature\n",
    "    predictions = predictions.exp().cpu()\n",
    "    next_token = torch.multinomial(predictions, num_samples=1)\n",
    "    return int(next_token[0].cpu())\n",
    "    \n",
    "\n",
    "def text_generator(sentence, generate_length):\n",
    "    trained_model.eval()\n",
    "    temperatures = [0.1, 0.2, 0.3, 0.4, 0.5, 0.6, 0.7, 0.8, 0.9, 1.0] \n",
    "    for temeperature in temperatures:\n",
    "        sample = sentence\n",
    "        print(f\"GENERATED SENTENCE WITH TEMPERATURE {temeperature}\")\n",
    "        for i in range(generate_length):\n",
    "            int_vector = return_int_vector(enc, sample)\n",
    "            if len(int_vector) >= SEQUENCE_LENGTH - 1:\n",
    "                break\n",
    "            input_tensor = torch.tensor(int_vector, dtype=torch.int32)\n",
    "            input_tensor = input_tensor.unsqueeze(0).to(device)\n",
    "            with torch.no_grad():\n",
    "                predictions = trained_model(input_tensor)\n",
    "            next_token = sample_next(predictions)\n",
    "#             if next_token != 0: # Ignore <pad> index. Final sentence may be shorter.\n",
    "            sample += ' ' + enc.decode([next_token])\n",
    "        print(sample)\n",
    "        print('\\n')"
   ]
  },
  {
   "cell_type": "code",
   "execution_count": 29,
   "id": "9d418dfb",
   "metadata": {},
   "outputs": [],
   "source": [
    "sentences = [\n",
    "    \"Bromwell High is a cartoon comedy. It ran at the same time as some other programs about school life, such as Teachers\"\n",
    "]"
   ]
  },
  {
   "cell_type": "code",
   "execution_count": 30,
   "id": "2afbe177",
   "metadata": {},
   "outputs": [],
   "source": [
    "generate_length = 100"
   ]
  },
  {
   "cell_type": "code",
   "execution_count": 31,
   "id": "9822d8b4",
   "metadata": {},
   "outputs": [
    {
     "name": "stdout",
     "output_type": "stream",
     "text": [
      "PROMPT: Bromwell High is a cartoon comedy. It ran at the same time as some other programs about school life, such as Teachers\n",
      "GENERATED SENTENCE WITH TEMPERATURE 0.1\n",
      "Bromwell High is a cartoon comedy. It ran at the same time as some other programs about school life, such as Teachers  or  fighter .< br es es  leadership  is  the  purposes  exterior  of  calls  Billy  working  little  part  tied  in  some  guaranteed  glasses  waiting  for  an  popular  known !\"  Also  in  garbage  U  toward 's  fart iber on  them .  Or  and  lik  Chuck !! ,  in  his  fuck ered  shelves ylum OT rien  Chains\n",
      "\n",
      "\n",
      "GENERATED SENTENCE WITH TEMPERATURE 0.2\n",
      "Bromwell High is a cartoon comedy. It ran at the same time as some other programs about school life, such as Teachers ,  her  previous  films ,  the  characters  is  a  tr  approach ,  released .  provides  gore 's ers ...  or  went  better  with  the  final  good  presentation 't -  by  an  gay  old  brother .  watches via  the  man  lines  to  see  the  end  and  truth  James aff  Kramer  fire ev  their  heads  real  early )\n",
      "\n",
      "\n",
      "GENERATED SENTENCE WITH TEMPERATURE 0.3\n",
      "Bromwell High is a cartoon comedy. It ran at the same time as some other programs about school life, such as Teachers  comes .\" th � ien  in  movies  relatives  and  original  genre  tower  at  his !)  quarters  to  those  out  this  one  so  never  let  complex  and  Oliv ame  ):  ( The  characters  h obe  when  Watson  and  Bee  Jo ade .  ( C ulsive  Allen  appear  by  her  video er  Hare .  numerical  degree res\n",
      "\n",
      "\n",
      "GENERATED SENTENCE WITH TEMPERATURE 0.4\n",
      "Bromwell High is a cartoon comedy. It ran at the same time as some other programs about school life, such as Teachers  Go ,  in  this  movie  to  really  funny y ke ar  Final rist  this  full  very  \" omever  Parker  combination  these  he  did  a  responsible  advance  for  that  and  .  They  still  written  and  the  movie 's als  that  doesn 't  requirement ing  dragged  giving  his  one  has  a  low  book  story  and\n",
      "\n",
      "\n",
      "GENERATED SENTENCE WITH TEMPERATURE 0.5\n",
      "Bromwell High is a cartoon comedy. It ran at the same time as some other programs about school life, such as Teachers  Terry  of  surprises  Republic  the istan  Joseph  his  special  m  legend  and  spring 's  surrounding  with  Cl  keys � ating  trap  as  a  long  are  considered yn al  modified  college by  his 54 man  WOR  Danny IM  Admir mm  bond  because  the shaped  attracts  Tucker ***  Warner  preserving  Hart  network em uous aver  vivid  Green  becomes\n",
      "\n",
      "\n",
      "GENERATED SENTENCE WITH TEMPERATURE 0.6\n",
      "Bromwell High is a cartoon comedy. It ran at the same time as some other programs about school life, such as Teachers  one  to  her  guy  a  missing  with  this  film  just  feel  because  the  movie  Charles  anthem  of  T  Cheese  she aving ue .\" ong ab inal agu eline ,  they 'll  down rie arma  their  really ,  him  so  we  porn IND  about  the  only .  Luke  arts  It 's .  The );  performance  and\n",
      "\n",
      "\n",
      "GENERATED SENTENCE WITH TEMPERATURE 0.7\n",
      "Bromwell High is a cartoon comedy. It ran at the same time as some other programs about school life, such as Teachers  BET  of  the  picture  takes  the  very  give ators .  They  can 't box  slaughter  looking  its  super  become  bo ations . actory  unpredictable ord  nonexistent ,\"  members  and  do  the  only  events  in  realism  smashed os  open  hire  merely  an  perhaps  and  walking  has  would  see  the  apartment  the  Cab HL  with  color\n",
      "\n",
      "\n",
      "GENERATED SENTENCE WITH TEMPERATURE 0.8\n",
      "Bromwell High is a cartoon comedy. It ran at the same time as some other programs about school life, such as Teachers ovies ,  Star ,  after  truth  profound  1929  on  a  air  as  still  Looking  in  British  big  a icked  dam ,  d  thoughts  up  Lynn  Sure  to  cash  as  her  view  and  carriage  were  my  promise ,  some .  Porn  Parents ,  was  her  mon  twentieth  Stanley eties  into  graves  whose  actors  build  is\n",
      "\n",
      "\n",
      "GENERATED SENTENCE WITH TEMPERATURE 0.9\n",
      "Bromwell High is a cartoon comedy. It ran at the same time as some other programs about school life, such as Teachers  genre .  Th  committed ,  a  cool  film  is  film .  understandably  details  par vers  scenes  is  created  revenge !  This  isn 't od  City  unc ists  Mon  landscape .  Himself !  But  the  cheap ied  Horror  finds  offers  Pamela  Chains KS eless  gameplay  and  who 's  believe  W iller I  too  a  so  taking  very\n",
      "\n",
      "\n",
      "GENERATED SENTENCE WITH TEMPERATURE 1.0\n",
      "Bromwell High is a cartoon comedy. It ran at the same time as some other programs about school life, such as Teachers  film .  He  tells  a  new  low  songs  home .  In  last  Machine  asks  the  succeeds  on  all  Dante  and  her  tub  of  his  endings  the  shocks ed  do  they  assume  he  is  a  pass ic  desperate Great  well k ourke 's ling  golden  of  the  sense  that  bird  the  Thief ised ap  reads  the\n",
      "\n",
      "\n",
      "\n",
      "############\n",
      "\n"
     ]
    }
   ],
   "source": [
    "for sentence in sentences:\n",
    "    print(f\"PROMPT: {sentence}\")\n",
    "    text_generator(sentence, generate_length)\n",
    "    print('\\n############\\n')"
   ]
  },
  {
   "cell_type": "code",
   "execution_count": null,
   "id": "7c16e047",
   "metadata": {},
   "outputs": [],
   "source": []
  }
 ],
 "metadata": {
  "kernelspec": {
   "display_name": "Python 3 (ipykernel)",
   "language": "python",
   "name": "python3"
  },
  "language_info": {
   "codemirror_mode": {
    "name": "ipython",
    "version": 3
   },
   "file_extension": ".py",
   "mimetype": "text/x-python",
   "name": "python",
   "nbconvert_exporter": "python",
   "pygments_lexer": "ipython3",
   "version": "3.10.11"
  }
 },
 "nbformat": 4,
 "nbformat_minor": 5
}
